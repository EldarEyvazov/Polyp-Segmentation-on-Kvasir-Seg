{
 "cells": [
  {
   "cell_type": "code",
   "execution_count": 1,
   "id": "f6ad9121-d295-4262-95d6-6bafb6a6ea24",
   "metadata": {},
   "outputs": [],
   "source": [
    "import numpy as np\n",
    "import pandas as pd\n",
    "import random\n",
    "import torch"
   ]
  },
  {
   "cell_type": "markdown",
   "id": "fd86e08a-1793-417a-adb0-a7d393d96de9",
   "metadata": {
    "id": "n6MrmYKPOPHQ"
   },
   "source": [
    "Lets dynamically choose type of device to use for our computations. To run on your own GPU one needs to install pytorch and cuda-toolkit."
   ]
  },
  {
   "cell_type": "code",
   "execution_count": 2,
   "id": "c5a98662-e156-4ebb-984a-f57102ced797",
   "metadata": {
    "colab": {
     "base_uri": "https://localhost:8080/"
    },
    "id": "3ooJw43yONE2",
    "outputId": "afe428b8-b6b9-404f-9a21-b8175e5aeb7f"
   },
   "outputs": [
    {
     "name": "stdout",
     "output_type": "stream",
     "text": [
      "True\n"
     ]
    }
   ],
   "source": [
    "print(torch.cuda.is_available())\n",
    "device = torch.device(\"cuda\") if torch.cuda.is_available() else torch.device(\"cpu\")"
   ]
  },
  {
   "cell_type": "code",
   "execution_count": 3,
   "id": "eb2f9bc2-d877-4384-a1c1-64557b083917",
   "metadata": {},
   "outputs": [
    {
     "name": "stderr",
     "output_type": "stream",
     "text": [
      "/home/antoni_valls/CV/Kvasir-Semantic-Segmentation/.venv/lib/python3.10/site-packages/torch/cuda/__init__.py:619: UserWarning: Can't initialize NVML\n",
      "  warnings.warn(\"Can't initialize NVML\")\n"
     ]
    },
    {
     "data": {
      "text/plain": [
       "_CudaDeviceProperties(name='NVIDIA GeForce RTX 2080 Ti', major=7, minor=5, total_memory=10824MB, multi_processor_count=68)"
      ]
     },
     "execution_count": 3,
     "metadata": {},
     "output_type": "execute_result"
    }
   ],
   "source": [
    "torch.cuda.get_device_properties(device)"
   ]
  },
  {
   "cell_type": "markdown",
   "id": "d5a44df4-7501-4d28-9480-3717d3565b00",
   "metadata": {},
   "source": [
    "Define the seed for reproductivity:"
   ]
  },
  {
   "cell_type": "code",
   "execution_count": 4,
   "id": "b6355a90-bdb9-4082-b08b-2eff47aa47db",
   "metadata": {
    "id": "5iDI_mz8N1qn"
   },
   "outputs": [],
   "source": [
    "def set_seed(seed, use_gpu = True):\n",
    "    \"\"\"\n",
    "    Set SEED for PyTorch reproducibility\n",
    "    \"\"\"\n",
    "    random.seed(seed)\n",
    "    np.random.seed(seed)\n",
    "    torch.manual_seed(seed)\n",
    "    if use_gpu:\n",
    "        torch.cuda.manual_seed_all(seed)\n",
    "        torch.cuda.manual_seed(seed)\n",
    "        torch.backends.cudnn.deterministic = True\n",
    "        torch.backends.cudnn.benchmark = False\n",
    "\n",
    "SEED = 196\n",
    "USE_SEED = True\n",
    "if USE_SEED:\n",
    "    set_seed(SEED, torch.cuda.is_available())"
   ]
  },
  {
   "cell_type": "markdown",
   "id": "857f3e65-9609-4d0b-acd0-e0a8cd4370c5",
   "metadata": {},
   "source": [
    "**Load the images and masks**"
   ]
  },
  {
   "cell_type": "code",
   "execution_count": 5,
   "id": "7d1a0c63-4849-4005-b580-278ec239e866",
   "metadata": {},
   "outputs": [
    {
     "name": "stdin",
     "output_type": "stream",
     "text": [
      "Data augmentation? (y/n) n\n"
     ]
    }
   ],
   "source": [
    "augmented = input(\"Data augmentation? (y/n)\")\n",
    "\n",
    "if augmented == \"y\":\n",
    "    train_images = np.load(\"data/data/train_augmented/combined_images.npy\")\n",
    "    train_masks = np.load(\"data/data/train_augmented/combined_masks.npy\")\n",
    "\n",
    "elif augmented == \"n\":\n",
    "    train_images = np.load(\"data/data/train_nonaugmented/train_images.npy\")\n",
    "    train_masks = np.load(\"data/data/train_nonaugmented/train_masks.npy\")\n",
    "\n",
    "else:\n",
    "    raise ValueError(f\"Only 'y' or 'n' \")\n",
    "\n",
    "test_images = np.load(\"data/data/test/test_images.npy\")\n",
    "test_masks = np.load(\"data/data/test/test_masks.npy\")"
   ]
  },
  {
   "cell_type": "code",
   "execution_count": 6,
   "id": "013f98f7-1cab-4b72-bcbf-968862eafbba",
   "metadata": {},
   "outputs": [
    {
     "name": "stdout",
     "output_type": "stream",
     "text": [
      "Train images shape: (700, 256, 256, 3)\n",
      "Test images shape: (300, 256, 256, 3)\n",
      "Train masks shape: (700, 256, 256, 1)\n",
      "Test masks shape: (300, 256, 256, 1)\n"
     ]
    }
   ],
   "source": [
    "print(\"Train images shape:\", train_images.shape)\n",
    "print(\"Test images shape:\", test_images.shape)\n",
    "print(\"Train masks shape:\", train_masks.shape)\n",
    "print(\"Test masks shape:\", test_masks.shape)"
   ]
  },
  {
   "cell_type": "markdown",
   "id": "240df45e-47c8-43d8-98ab-a9ce2f5c6ece",
   "metadata": {},
   "source": [
    "**Standaritzation**"
   ]
  },
  {
   "cell_type": "code",
   "execution_count": 7,
   "id": "3086adf4-db6d-48d1-9f9d-59e998ebad47",
   "metadata": {},
   "outputs": [
    {
     "name": "stdout",
     "output_type": "stream",
     "text": [
      "-----  NORMALIZATION VALUES  -----\n",
      "Mean (RGB): [0.55863946 0.32152227 0.23399408]\n",
      "Standard Deviation (RGB): [0.31859686 0.22169437 0.18710657]\n"
     ]
    }
   ],
   "source": [
    "mean = np.mean(train_images, axis = (0,1,2)) / 255\n",
    "std = np.std(train_images, axis = (0,1,2)) / 255\n",
    "\n",
    "print(\"-----  NORMALIZATION VALUES  -----\")\n",
    "print(f\"Mean (RGB): {mean}\")\n",
    "print(f\"Standard Deviation (RGB): {std}\")"
   ]
  },
  {
   "cell_type": "code",
   "execution_count": 8,
   "id": "12a4490c-8028-43ba-a7e3-2c3d0c5ba29e",
   "metadata": {},
   "outputs": [],
   "source": [
    "import torchvision\n",
    "import torchvision.transforms as transforms\n",
    "\n",
    "transforms = torchvision.transforms.Compose([\n",
    "    torchvision.transforms.ToTensor(),  # Convert the image to a PyTorch tensor and normalize it between [0, 1]\n",
    "    torchvision.transforms.Normalize(mean, std)  # Normalize the tensor using the provided mean and standard deviation\n",
    "])"
   ]
  },
  {
   "cell_type": "markdown",
   "id": "524516e8-e43a-46bb-a077-6006cfebd80d",
   "metadata": {},
   "source": [
    "**Validation set**"
   ]
  },
  {
   "cell_type": "code",
   "execution_count": 9,
   "id": "3be31073-1bd1-4ddd-8c25-97d7a83904db",
   "metadata": {
    "colab": {
     "base_uri": "https://localhost:8080/"
    },
    "id": "3bY2e4kp_9BR",
    "outputId": "350540c0-b2dc-4464-df8c-5579b72f3391",
    "scrolled": true
   },
   "outputs": [
    {
     "name": "stdout",
     "output_type": "stream",
     "text": [
      "Training Images Shape: (700, 256, 256, 3)\n",
      "Training Masks Shape: (700, 256, 256, 1)\n",
      "Validation Images Shape: (120, 256, 256, 3)\n",
      "Validation Masks Shape: (120, 256, 256, 1)\n",
      "Number of Train Examples: 700\n",
      "Number of Validation Examples: 120\n",
      "Number of Test Examples: 180\n"
     ]
    }
   ],
   "source": [
    "from sklearn.model_selection import train_test_split\n",
    "\n",
    "#Validation set (40%) of the testing images\n",
    "testing_images, val_images, testing_masks, val_masks = train_test_split(\n",
    "    test_images, test_masks, test_size=0.4, random_state=42)\n",
    "\n",
    "# Check shape of training images and masks\n",
    "print(\"Training Images Shape:\", train_images.shape)\n",
    "print(\"Training Masks Shape:\", train_masks.shape)\n",
    "\n",
    "# Check shape of validation images and masks\n",
    "print(\"Validation Images Shape:\", val_images.shape)\n",
    "print(\"Validation Masks Shape:\", val_masks.shape)\n",
    "\n",
    "# Check length of training and validation sets\n",
    "print(\"Number of Train Examples:\", len(train_images))\n",
    "print(\"Number of Validation Examples:\", len(val_images))\n",
    "print(\"Number of Test Examples:\", len(testing_images))"
   ]
  },
  {
   "cell_type": "code",
   "execution_count": 10,
   "id": "aee261a9-8a27-4a41-9ec7-dbdbfd44bda7",
   "metadata": {},
   "outputs": [],
   "source": [
    "from src.preprocess import KvasirDataset\n",
    "\n",
    "# Create KvasirDataset objects for train, validation and test sets\n",
    "train_dataset = KvasirDataset(images=train_images, masks=train_masks, transforms=transforms)\n",
    "val_dataset = KvasirDataset(images=val_images,masks=val_masks, transforms=transforms)\n",
    "test_dataset = KvasirDataset(images=test_images, masks=test_masks, transforms=transforms) \n"
   ]
  },
  {
   "cell_type": "markdown",
   "id": "12686a1a-38e0-438f-9ebb-a7f65621a91d",
   "metadata": {},
   "source": [
    "**Define the model**"
   ]
  },
  {
   "cell_type": "code",
   "execution_count": 11,
   "id": "a9b7ac48-738c-47c7-8de4-235b5d8b5c71",
   "metadata": {},
   "outputs": [],
   "source": [
    "config = {}\n",
    "config['name']='Deeper_Att_DiceLoss_try_Non_Aug'\n",
    "config['epochs']=100\n",
    "config['batch_size']=8\n",
    "config['arch']='AttU_Net'\n",
    "config['deep_supervision']=False\n",
    "config['input_channels']=3\n",
    "config['num_classes']=1\n",
    "config['early_stopping']=10 # \n",
    "#config['input_w']=128\n",
    "#config['input_h']=128\n"
   ]
  },
  {
   "cell_type": "code",
   "execution_count": 12,
   "id": "8c60e0c8-abc1-448f-bf64-48ba5797c66c",
   "metadata": {},
   "outputs": [],
   "source": [
    "from torch.utils.data import DataLoader\n",
    "\n",
    "train_iterator = DataLoader(train_dataset, batch_size=config['batch_size'], shuffle=True)\n",
    "test_iterator = DataLoader(test_dataset, batch_size=config['batch_size'])\n",
    "val_iterator = DataLoader(val_dataset,batch_size=config['batch_size'])"
   ]
  },
  {
   "cell_type": "code",
   "execution_count": 14,
   "id": "f1d69ed0-90ca-41ed-a570-fd85590f4d7a",
   "metadata": {},
   "outputs": [
    {
     "name": "stdout",
     "output_type": "stream",
     "text": [
      "The model has 8,726,077 trainable parameters.\n"
     ]
    }
   ],
   "source": [
    "from src.main import AttU_Net\n",
    "from src.utils import count_parameters\n",
    "\n",
    "model = AttU_Net(config)\n",
    "print(f\"The model has {count_parameters(model):,} trainable parameters.\")"
   ]
  },
  {
   "cell_type": "code",
   "execution_count": 14,
   "id": "3f5002af-adc9-466d-8710-bb026e56c2ea",
   "metadata": {},
   "outputs": [],
   "source": [
    "model = model.to(device)"
   ]
  },
  {
   "cell_type": "code",
   "execution_count": 15,
   "id": "a8f28d1f-e1d9-43d9-a984-d8a924ad734d",
   "metadata": {},
   "outputs": [
    {
     "name": "stderr",
     "output_type": "stream",
     "text": [
      "/home/antoni_valls/CV/Kvasir-Semantic-Segmentation/.venv/lib/python3.10/site-packages/torch/optim/lr_scheduler.py:28: UserWarning: The verbose parameter is deprecated. Please use get_last_lr() to access the learning rate.\n",
      "  warnings.warn(\"The verbose parameter is deprecated. Please use get_last_lr() \"\n"
     ]
    }
   ],
   "source": [
    "from src.loss import DiceLoss, IoULoss, BCEDiceLoss\n",
    "import torch.optim as optim\n",
    "from torch.optim.lr_scheduler import ReduceLROnPlateau\n",
    "\n",
    "criterion = DiceLoss().to(device)\n",
    "optimizer = optim.Adam(model.parameters(), lr=1e-4) \n",
    "scheduler = ReduceLROnPlateau(optimizer, factor=0.1, patience=5, verbose=True)"
   ]
  },
  {
   "cell_type": "code",
   "execution_count": 16,
   "id": "a209d906-894a-475f-86c5-3770c872d67a",
   "metadata": {},
   "outputs": [
    {
     "name": "stdout",
     "output_type": "stream",
     "text": [
      "Epoch [0/100]\n"
     ]
    },
    {
     "name": "stderr",
     "output_type": "stream",
     "text": [
      "100%|███████████████████████████| 88/88 [00:09<00:00,  8.94it/s, loss=0.633, iou=0.227, dice_coef=0.367, accuracy=0.636]\n",
      "100%|███████████████████████████| 15/15 [00:00<00:00, 26.97it/s, loss=0.622, iou=0.235, dice_coef=0.378, accuracy=0.593]\n"
     ]
    },
    {
     "name": "stdout",
     "output_type": "stream",
     "text": [
      "loss 0.6334 - iou 0.2274 - dice 0.3666 - accuracy 0.6363 - val_loss 0.6224 - val_iou 0.2353 - val_dice 0.3776 - val_accuracy 0.5926\n",
      "=> saved best model\n",
      "Epoch [1/100]\n"
     ]
    },
    {
     "name": "stderr",
     "output_type": "stream",
     "text": [
      "100%|███████████████████████████| 88/88 [00:09<00:00,  9.17it/s, loss=0.586, iou=0.265, dice_coef=0.414, accuracy=0.664]\n",
      "100%|███████████████████████████| 15/15 [00:00<00:00, 26.86it/s, loss=0.585, iou=0.265, dice_coef=0.415, accuracy=0.707]\n"
     ]
    },
    {
     "name": "stdout",
     "output_type": "stream",
     "text": [
      "loss 0.5856 - iou 0.2646 - dice 0.4144 - accuracy 0.6640 - val_loss 0.5846 - val_iou 0.2649 - val_dice 0.4154 - val_accuracy 0.7073\n",
      "=> saved best model\n",
      "Epoch [2/100]\n"
     ]
    },
    {
     "name": "stderr",
     "output_type": "stream",
     "text": [
      "100%|███████████████████████████| 88/88 [00:09<00:00,  9.16it/s, loss=0.565, iou=0.281, dice_coef=0.435, accuracy=0.688]\n",
      "100%|████████████████████████████| 15/15 [00:00<00:00, 26.91it/s, loss=0.578, iou=0.27, dice_coef=0.422, accuracy=0.705]\n"
     ]
    },
    {
     "name": "stdout",
     "output_type": "stream",
     "text": [
      "loss 0.5649 - iou 0.2808 - dice 0.4351 - accuracy 0.6883 - val_loss 0.5777 - val_iou 0.2704 - val_dice 0.4223 - val_accuracy 0.7054\n",
      "=> saved best model\n",
      "Epoch [3/100]\n"
     ]
    },
    {
     "name": "stderr",
     "output_type": "stream",
     "text": [
      "100%|███████████████████████████| 88/88 [00:09<00:00,  9.13it/s, loss=0.552, iou=0.293, dice_coef=0.448, accuracy=0.704]\n",
      "100%|███████████████████████████| 15/15 [00:00<00:00, 26.91it/s, loss=0.594, iou=0.258, dice_coef=0.406, accuracy=0.594]\n"
     ]
    },
    {
     "name": "stdout",
     "output_type": "stream",
     "text": [
      "loss 0.5517 - iou 0.2926 - dice 0.4483 - accuracy 0.7035 - val_loss 0.5937 - val_iou 0.2577 - val_dice 0.4063 - val_accuracy 0.5941\n",
      "Epoch [4/100]\n"
     ]
    },
    {
     "name": "stderr",
     "output_type": "stream",
     "text": [
      "100%|███████████████████████████| 88/88 [00:09<00:00,  9.14it/s, loss=0.535, iou=0.307, dice_coef=0.465, accuracy=0.723]\n",
      "100%|████████████████████████████| 15/15 [00:00<00:00, 26.96it/s, loss=0.566, iou=0.28, dice_coef=0.434, accuracy=0.683]\n"
     ]
    },
    {
     "name": "stdout",
     "output_type": "stream",
     "text": [
      "loss 0.5348 - iou 0.3074 - dice 0.4652 - accuracy 0.7230 - val_loss 0.5656 - val_iou 0.2799 - val_dice 0.4344 - val_accuracy 0.6834\n",
      "=> saved best model\n",
      "Epoch [5/100]\n"
     ]
    },
    {
     "name": "stderr",
     "output_type": "stream",
     "text": [
      "100%|███████████████████████████| 88/88 [00:09<00:00,  9.11it/s, loss=0.516, iou=0.323, dice_coef=0.484, accuracy=0.743]\n",
      "100%|████████████████████████████| 15/15 [00:00<00:00, 26.75it/s, loss=0.533, iou=0.307, dice_coef=0.467, accuracy=0.75]\n"
     ]
    },
    {
     "name": "stdout",
     "output_type": "stream",
     "text": [
      "loss 0.5162 - iou 0.3231 - dice 0.4838 - accuracy 0.7429 - val_loss 0.5329 - val_iou 0.3073 - val_dice 0.4671 - val_accuracy 0.7500\n",
      "=> saved best model\n",
      "Epoch [6/100]\n"
     ]
    },
    {
     "name": "stderr",
     "output_type": "stream",
     "text": [
      "100%|███████████████████████████| 88/88 [00:09<00:00,  9.11it/s, loss=0.494, iou=0.344, dice_coef=0.506, accuracy=0.767]\n",
      "100%|███████████████████████████| 15/15 [00:00<00:00, 26.71it/s, loss=0.509, iou=0.328, dice_coef=0.491, accuracy=0.795]\n"
     ]
    },
    {
     "name": "stdout",
     "output_type": "stream",
     "text": [
      "loss 0.4938 - iou 0.3435 - dice 0.5062 - accuracy 0.7672 - val_loss 0.5091 - val_iou 0.3277 - val_dice 0.4909 - val_accuracy 0.7948\n",
      "=> saved best model\n",
      "Epoch [7/100]\n"
     ]
    },
    {
     "name": "stderr",
     "output_type": "stream",
     "text": [
      "100%|████████████████████████████| 88/88 [00:09<00:00,  9.07it/s, loss=0.475, iou=0.36, dice_coef=0.525, accuracy=0.789]\n",
      "100%|███████████████████████████| 15/15 [00:00<00:00, 26.63it/s, loss=0.535, iou=0.307, dice_coef=0.465, accuracy=0.713]\n"
     ]
    },
    {
     "name": "stdout",
     "output_type": "stream",
     "text": [
      "loss 0.4751 - iou 0.3604 - dice 0.5249 - accuracy 0.7892 - val_loss 0.5347 - val_iou 0.3068 - val_dice 0.4653 - val_accuracy 0.7135\n",
      "Epoch [8/100]\n"
     ]
    },
    {
     "name": "stderr",
     "output_type": "stream",
     "text": [
      "100%|█████████████████████████████| 88/88 [00:09<00:00,  9.08it/s, loss=0.459, iou=0.376, dice_coef=0.541, accuracy=0.8]\n",
      "100%|████████████████████████████| 15/15 [00:00<00:00, 26.81it/s, loss=0.511, iou=0.327, dice_coef=0.489, accuracy=0.74]\n"
     ]
    },
    {
     "name": "stdout",
     "output_type": "stream",
     "text": [
      "loss 0.4590 - iou 0.3757 - dice 0.5410 - accuracy 0.8004 - val_loss 0.5106 - val_iou 0.3270 - val_dice 0.4894 - val_accuracy 0.7401\n",
      "Epoch [9/100]\n"
     ]
    },
    {
     "name": "stderr",
     "output_type": "stream",
     "text": [
      "100%|███████████████████████████| 88/88 [00:09<00:00,  9.09it/s, loss=0.437, iou=0.397, dice_coef=0.563, accuracy=0.823]\n",
      "100%|███████████████████████████| 15/15 [00:00<00:00, 26.67it/s, loss=0.466, iou=0.368, dice_coef=0.534, accuracy=0.809]\n"
     ]
    },
    {
     "name": "stdout",
     "output_type": "stream",
     "text": [
      "loss 0.4374 - iou 0.3965 - dice 0.5626 - accuracy 0.8226 - val_loss 0.4655 - val_iou 0.3682 - val_dice 0.5345 - val_accuracy 0.8091\n",
      "=> saved best model\n",
      "Epoch [10/100]\n"
     ]
    },
    {
     "name": "stderr",
     "output_type": "stream",
     "text": [
      "100%|███████████████████████████| 88/88 [00:09<00:00,  9.05it/s, loss=0.407, iou=0.426, dice_coef=0.593, accuracy=0.845]\n",
      "100%|███████████████████████████| 15/15 [00:00<00:00, 26.70it/s, loss=0.447, iou=0.385, dice_coef=0.553, accuracy=0.838]\n"
     ]
    },
    {
     "name": "stdout",
     "output_type": "stream",
     "text": [
      "loss 0.4073 - iou 0.4256 - dice 0.5927 - accuracy 0.8451 - val_loss 0.4472 - val_iou 0.3846 - val_dice 0.5528 - val_accuracy 0.8379\n",
      "=> saved best model\n",
      "Epoch [11/100]\n"
     ]
    },
    {
     "name": "stderr",
     "output_type": "stream",
     "text": [
      "100%|███████████████████████████| 88/88 [00:09<00:00,  9.05it/s, loss=0.393, iou=0.442, dice_coef=0.607, accuracy=0.857]\n",
      "100%|███████████████████████████| 15/15 [00:00<00:00, 26.65it/s, loss=0.437, iou=0.395, dice_coef=0.563, accuracy=0.835]\n"
     ]
    },
    {
     "name": "stdout",
     "output_type": "stream",
     "text": [
      "loss 0.3933 - iou 0.4419 - dice 0.6067 - accuracy 0.8568 - val_loss 0.4368 - val_iou 0.3951 - val_dice 0.5632 - val_accuracy 0.8347\n",
      "=> saved best model\n",
      "Epoch [12/100]\n"
     ]
    },
    {
     "name": "stderr",
     "output_type": "stream",
     "text": [
      "100%|███████████████████████████| 88/88 [00:09<00:00,  8.98it/s, loss=0.373, iou=0.461, dice_coef=0.627, accuracy=0.869]\n",
      "100%|███████████████████████████| 15/15 [00:00<00:00, 26.52it/s, loss=0.419, iou=0.414, dice_coef=0.581, accuracy=0.888]\n"
     ]
    },
    {
     "name": "stdout",
     "output_type": "stream",
     "text": [
      "loss 0.3731 - iou 0.4610 - dice 0.6269 - accuracy 0.8690 - val_loss 0.4192 - val_iou 0.4137 - val_dice 0.5808 - val_accuracy 0.8877\n",
      "=> saved best model\n",
      "Epoch [13/100]\n"
     ]
    },
    {
     "name": "stderr",
     "output_type": "stream",
     "text": [
      "100%|█████████████████████████████| 88/88 [00:09<00:00,  8.89it/s, loss=0.35, iou=0.485, dice_coef=0.65, accuracy=0.904]\n",
      "100%|███████████████████████████| 15/15 [00:00<00:00, 26.25it/s, loss=0.419, iou=0.412, dice_coef=0.581, accuracy=0.872]\n"
     ]
    },
    {
     "name": "stdout",
     "output_type": "stream",
     "text": [
      "loss 0.3505 - iou 0.4853 - dice 0.6495 - accuracy 0.9043 - val_loss 0.4189 - val_iou 0.4124 - val_dice 0.5811 - val_accuracy 0.8719\n",
      "=> saved best model\n",
      "Epoch [14/100]\n"
     ]
    },
    {
     "name": "stderr",
     "output_type": "stream",
     "text": [
      "100%|███████████████████████████| 88/88 [00:09<00:00,  8.82it/s, loss=0.336, iou=0.502, dice_coef=0.664, accuracy=0.914]\n",
      "100%|███████████████████████████| 15/15 [00:00<00:00, 26.16it/s, loss=0.403, iou=0.429, dice_coef=0.597, accuracy=0.891]\n"
     ]
    },
    {
     "name": "stdout",
     "output_type": "stream",
     "text": [
      "loss 0.3360 - iou 0.5023 - dice 0.6640 - accuracy 0.9143 - val_loss 0.4033 - val_iou 0.4292 - val_dice 0.5967 - val_accuracy 0.8906\n",
      "=> saved best model\n",
      "Epoch [15/100]\n"
     ]
    },
    {
     "name": "stderr",
     "output_type": "stream",
     "text": [
      "100%|███████████████████████████| 88/88 [00:10<00:00,  8.74it/s, loss=0.309, iou=0.534, dice_coef=0.691, accuracy=0.925]\n",
      "100%|███████████████████████████| 15/15 [00:00<00:00, 25.90it/s, loss=0.398, iou=0.435, dice_coef=0.602, accuracy=0.879]\n"
     ]
    },
    {
     "name": "stdout",
     "output_type": "stream",
     "text": [
      "loss 0.3091 - iou 0.5341 - dice 0.6909 - accuracy 0.9247 - val_loss 0.3975 - val_iou 0.4346 - val_dice 0.6025 - val_accuracy 0.8787\n",
      "=> saved best model\n",
      "Epoch [16/100]\n"
     ]
    },
    {
     "name": "stderr",
     "output_type": "stream",
     "text": [
      "100%|███████████████████████████| 88/88 [00:10<00:00,  8.65it/s, loss=0.284, iou=0.563, dice_coef=0.716, accuracy=0.931]\n",
      "100%|███████████████████████████| 15/15 [00:00<00:00, 26.06it/s, loss=0.349, iou=0.486, dice_coef=0.651, accuracy=0.908]\n"
     ]
    },
    {
     "name": "stdout",
     "output_type": "stream",
     "text": [
      "loss 0.2843 - iou 0.5632 - dice 0.7157 - accuracy 0.9310 - val_loss 0.3488 - val_iou 0.4858 - val_dice 0.6512 - val_accuracy 0.9078\n",
      "=> saved best model\n",
      "Epoch [17/100]\n"
     ]
    },
    {
     "name": "stderr",
     "output_type": "stream",
     "text": [
      "100%|███████████████████████████| 88/88 [00:10<00:00,  8.56it/s, loss=0.271, iou=0.581, dice_coef=0.729, accuracy=0.933]\n",
      "100%|█████████████████████████████| 15/15 [00:00<00:00, 25.52it/s, loss=0.35, iou=0.487, dice_coef=0.65, accuracy=0.907]\n"
     ]
    },
    {
     "name": "stdout",
     "output_type": "stream",
     "text": [
      "loss 0.2713 - iou 0.5805 - dice 0.7287 - accuracy 0.9333 - val_loss 0.3501 - val_iou 0.4875 - val_dice 0.6499 - val_accuracy 0.9074\n",
      "Epoch [18/100]\n"
     ]
    },
    {
     "name": "stderr",
     "output_type": "stream",
     "text": [
      "100%|███████████████████████████| 88/88 [00:10<00:00,  8.45it/s, loss=0.249, iou=0.607, dice_coef=0.751, accuracy=0.936]\n",
      "100%|███████████████████████████| 15/15 [00:00<00:00, 25.36it/s, loss=0.332, iou=0.507, dice_coef=0.668, accuracy=0.912]\n"
     ]
    },
    {
     "name": "stdout",
     "output_type": "stream",
     "text": [
      "loss 0.2490 - iou 0.6069 - dice 0.7510 - accuracy 0.9364 - val_loss 0.3319 - val_iou 0.5067 - val_dice 0.6681 - val_accuracy 0.9123\n",
      "=> saved best model\n",
      "Epoch [19/100]\n"
     ]
    },
    {
     "name": "stderr",
     "output_type": "stream",
     "text": [
      "100%|███████████████████████████| 88/88 [00:10<00:00,  8.41it/s, loss=0.241, iou=0.618, dice_coef=0.759, accuracy=0.937]\n",
      "100%|███████████████████████████| 15/15 [00:00<00:00, 25.29it/s, loss=0.344, iou=0.494, dice_coef=0.656, accuracy=0.894]\n"
     ]
    },
    {
     "name": "stdout",
     "output_type": "stream",
     "text": [
      "loss 0.2414 - iou 0.6179 - dice 0.7586 - accuracy 0.9369 - val_loss 0.3436 - val_iou 0.4944 - val_dice 0.6564 - val_accuracy 0.8939\n",
      "Epoch [20/100]\n"
     ]
    },
    {
     "name": "stderr",
     "output_type": "stream",
     "text": [
      "100%|███████████████████████████| 88/88 [00:10<00:00,  8.32it/s, loss=0.213, iou=0.654, dice_coef=0.787, accuracy=0.943]\n",
      "100%|███████████████████████████| 15/15 [00:00<00:00, 25.05it/s, loss=0.332, iou=0.508, dice_coef=0.668, accuracy=0.914]\n"
     ]
    },
    {
     "name": "stdout",
     "output_type": "stream",
     "text": [
      "loss 0.2132 - iou 0.6538 - dice 0.7868 - accuracy 0.9434 - val_loss 0.3321 - val_iou 0.5080 - val_dice 0.6679 - val_accuracy 0.9138\n",
      "Epoch [21/100]\n"
     ]
    },
    {
     "name": "stderr",
     "output_type": "stream",
     "text": [
      "100%|████████████████████████████| 88/88 [00:10<00:00,  8.25it/s, loss=0.185, iou=0.692, dice_coef=0.815, accuracy=0.95]\n",
      "100%|█████████████████████████████| 15/15 [00:00<00:00, 25.04it/s, loss=0.34, iou=0.504, dice_coef=0.66, accuracy=0.915]\n"
     ]
    },
    {
     "name": "stdout",
     "output_type": "stream",
     "text": [
      "loss 0.1851 - iou 0.6918 - dice 0.8149 - accuracy 0.9498 - val_loss 0.3398 - val_iou 0.5041 - val_dice 0.6602 - val_accuracy 0.9149\n",
      "Epoch [22/100]\n"
     ]
    },
    {
     "name": "stderr",
     "output_type": "stream",
     "text": [
      "100%|███████████████████████████| 88/88 [00:10<00:00,  8.18it/s, loss=0.185, iou=0.692, dice_coef=0.815, accuracy=0.947]\n",
      "100%|███████████████████████████| 15/15 [00:00<00:00, 24.38it/s, loss=0.366, iou=0.474, dice_coef=0.634, accuracy=0.908]\n"
     ]
    },
    {
     "name": "stdout",
     "output_type": "stream",
     "text": [
      "loss 0.1850 - iou 0.6922 - dice 0.8150 - accuracy 0.9468 - val_loss 0.3659 - val_iou 0.4737 - val_dice 0.6341 - val_accuracy 0.9085\n",
      "Epoch [23/100]\n"
     ]
    },
    {
     "name": "stderr",
     "output_type": "stream",
     "text": [
      "100%|█████████████████████████████| 88/88 [00:10<00:00,  8.14it/s, loss=0.16, iou=0.728, dice_coef=0.84, accuracy=0.953]\n",
      "100%|███████████████████████████| 15/15 [00:00<00:00, 24.58it/s, loss=0.306, iou=0.537, dice_coef=0.694, accuracy=0.904]\n"
     ]
    },
    {
     "name": "stdout",
     "output_type": "stream",
     "text": [
      "loss 0.1601 - iou 0.7278 - dice 0.8399 - accuracy 0.9529 - val_loss 0.3060 - val_iou 0.5366 - val_dice 0.6940 - val_accuracy 0.9036\n",
      "=> saved best model\n",
      "Epoch [24/100]\n"
     ]
    },
    {
     "name": "stderr",
     "output_type": "stream",
     "text": [
      "100%|████████████████████████████| 88/88 [00:10<00:00,  8.07it/s, loss=0.165, iou=0.72, dice_coef=0.835, accuracy=0.949]\n",
      "100%|███████████████████████████| 15/15 [00:00<00:00, 24.51it/s, loss=0.291, iou=0.554, dice_coef=0.709, accuracy=0.914]\n"
     ]
    },
    {
     "name": "stdout",
     "output_type": "stream",
     "text": [
      "loss 0.1650 - iou 0.7202 - dice 0.8350 - accuracy 0.9494 - val_loss 0.2908 - val_iou 0.5542 - val_dice 0.7092 - val_accuracy 0.9143\n",
      "=> saved best model\n",
      "Epoch [25/100]\n"
     ]
    },
    {
     "name": "stderr",
     "output_type": "stream",
     "text": [
      "100%|███████████████████████████| 88/88 [00:10<00:00,  8.02it/s, loss=0.147, iou=0.748, dice_coef=0.853, accuracy=0.955]\n",
      "100%|███████████████████████████| 15/15 [00:00<00:00, 24.77it/s, loss=0.319, iou=0.524, dice_coef=0.681, accuracy=0.913]\n"
     ]
    },
    {
     "name": "stdout",
     "output_type": "stream",
     "text": [
      "loss 0.1468 - iou 0.7484 - dice 0.8532 - accuracy 0.9545 - val_loss 0.3189 - val_iou 0.5244 - val_dice 0.6811 - val_accuracy 0.9131\n",
      "Epoch [26/100]\n"
     ]
    },
    {
     "name": "stderr",
     "output_type": "stream",
     "text": [
      "100%|███████████████████████████| 88/88 [00:11<00:00,  7.97it/s, loss=0.149, iou=0.744, dice_coef=0.851, accuracy=0.952]\n",
      "100%|█████████████████████████████| 15/15 [00:00<00:00, 24.20it/s, loss=0.32, iou=0.526, dice_coef=0.68, accuracy=0.914]\n"
     ]
    },
    {
     "name": "stdout",
     "output_type": "stream",
     "text": [
      "loss 0.1491 - iou 0.7436 - dice 0.8509 - accuracy 0.9520 - val_loss 0.3203 - val_iou 0.5256 - val_dice 0.6797 - val_accuracy 0.9137\n",
      "Epoch [27/100]\n"
     ]
    },
    {
     "name": "stderr",
     "output_type": "stream",
     "text": [
      "100%|███████████████████████████| 88/88 [00:11<00:00,  7.94it/s, loss=0.132, iou=0.769, dice_coef=0.868, accuracy=0.956]\n",
      "100%|█████████████████████████████| 15/15 [00:00<00:00, 24.35it/s, loss=0.338, iou=0.5, dice_coef=0.662, accuracy=0.871]\n"
     ]
    },
    {
     "name": "stdout",
     "output_type": "stream",
     "text": [
      "loss 0.1324 - iou 0.7690 - dice 0.8676 - accuracy 0.9561 - val_loss 0.3380 - val_iou 0.4995 - val_dice 0.6620 - val_accuracy 0.8705\n",
      "Epoch [28/100]\n"
     ]
    },
    {
     "name": "stderr",
     "output_type": "stream",
     "text": [
      "100%|████████████████████████████| 88/88 [00:11<00:00,  7.91it/s, loss=0.125, iou=0.78, dice_coef=0.875, accuracy=0.958]\n",
      "100%|█████████████████████████████| 15/15 [00:00<00:00, 24.14it/s, loss=0.26, iou=0.591, dice_coef=0.74, accuracy=0.916]\n"
     ]
    },
    {
     "name": "stdout",
     "output_type": "stream",
     "text": [
      "loss 0.1253 - iou 0.7802 - dice 0.8747 - accuracy 0.9576 - val_loss 0.2602 - val_iou 0.5913 - val_dice 0.7398 - val_accuracy 0.9161\n",
      "=> saved best model\n",
      "Epoch [29/100]\n"
     ]
    },
    {
     "name": "stderr",
     "output_type": "stream",
     "text": [
      "100%|███████████████████████████| 88/88 [00:11<00:00,  7.89it/s, loss=0.107, iou=0.808, dice_coef=0.893, accuracy=0.962]\n",
      "100%|███████████████████████████| 15/15 [00:00<00:00, 24.07it/s, loss=0.274, iou=0.575, dice_coef=0.726, accuracy=0.908]\n"
     ]
    },
    {
     "name": "stdout",
     "output_type": "stream",
     "text": [
      "loss 0.1071 - iou 0.8079 - dice 0.8929 - accuracy 0.9619 - val_loss 0.2744 - val_iou 0.5748 - val_dice 0.7256 - val_accuracy 0.9082\n",
      "Epoch [30/100]\n"
     ]
    },
    {
     "name": "stderr",
     "output_type": "stream",
     "text": [
      "100%|███████████████████████████| 88/88 [00:11<00:00,  7.85it/s, loss=0.101, iou=0.818, dice_coef=0.899, accuracy=0.963]\n",
      "100%|███████████████████████████| 15/15 [00:00<00:00, 24.10it/s, loss=0.271, iou=0.581, dice_coef=0.729, accuracy=0.917]\n"
     ]
    },
    {
     "name": "stdout",
     "output_type": "stream",
     "text": [
      "loss 0.1009 - iou 0.8181 - dice 0.8991 - accuracy 0.9634 - val_loss 0.2706 - val_iou 0.5813 - val_dice 0.7294 - val_accuracy 0.9172\n",
      "Epoch [31/100]\n"
     ]
    },
    {
     "name": "stderr",
     "output_type": "stream",
     "text": [
      "100%|███████████████████████████| 88/88 [00:11<00:00,  7.83it/s, loss=0.106, iou=0.811, dice_coef=0.894, accuracy=0.961]\n",
      "100%|███████████████████████████| 15/15 [00:00<00:00, 24.00it/s, loss=0.258, iou=0.598, dice_coef=0.742, accuracy=0.917]\n"
     ]
    },
    {
     "name": "stdout",
     "output_type": "stream",
     "text": [
      "loss 0.1064 - iou 0.8109 - dice 0.8936 - accuracy 0.9614 - val_loss 0.2584 - val_iou 0.5976 - val_dice 0.7416 - val_accuracy 0.9166\n",
      "=> saved best model\n",
      "Epoch [32/100]\n"
     ]
    },
    {
     "name": "stderr",
     "output_type": "stream",
     "text": [
      "100%|███████████████████████████| 88/88 [00:11<00:00,  7.82it/s, loss=0.0876, iou=0.84, dice_coef=0.912, accuracy=0.967]\n",
      "100%|████████████████████████████| 15/15 [00:00<00:00, 24.01it/s, loss=0.247, iou=0.613, dice_coef=0.753, accuracy=0.92]\n"
     ]
    },
    {
     "name": "stdout",
     "output_type": "stream",
     "text": [
      "loss 0.0876 - iou 0.8402 - dice 0.9124 - accuracy 0.9665 - val_loss 0.2467 - val_iou 0.6131 - val_dice 0.7533 - val_accuracy 0.9201\n",
      "=> saved best model\n",
      "Epoch [33/100]\n"
     ]
    },
    {
     "name": "stderr",
     "output_type": "stream",
     "text": [
      "100%|███████████████████████████| 88/88 [00:11<00:00,  7.81it/s, loss=0.0943, iou=0.83, dice_coef=0.906, accuracy=0.964]\n",
      "100%|███████████████████████████| 15/15 [00:00<00:00, 23.90it/s, loss=0.317, iou=0.529, dice_coef=0.683, accuracy=0.912]\n"
     ]
    },
    {
     "name": "stdout",
     "output_type": "stream",
     "text": [
      "loss 0.0943 - iou 0.8303 - dice 0.9057 - accuracy 0.9641 - val_loss 0.3175 - val_iou 0.5295 - val_dice 0.6825 - val_accuracy 0.9122\n",
      "Epoch [34/100]\n"
     ]
    },
    {
     "name": "stderr",
     "output_type": "stream",
     "text": [
      "100%|██████████████████████████| 88/88 [00:11<00:00,  7.81it/s, loss=0.0813, iou=0.851, dice_coef=0.919, accuracy=0.967]\n",
      "100%|███████████████████████████| 15/15 [00:00<00:00, 23.96it/s, loss=0.271, iou=0.583, dice_coef=0.729, accuracy=0.922]\n"
     ]
    },
    {
     "name": "stdout",
     "output_type": "stream",
     "text": [
      "loss 0.0813 - iou 0.8507 - dice 0.9187 - accuracy 0.9670 - val_loss 0.2709 - val_iou 0.5832 - val_dice 0.7291 - val_accuracy 0.9217\n",
      "Epoch [35/100]\n"
     ]
    },
    {
     "name": "stderr",
     "output_type": "stream",
     "text": [
      "100%|███████████████████████████| 88/88 [00:11<00:00,  7.79it/s, loss=0.0762, iou=0.86, dice_coef=0.924, accuracy=0.968]\n",
      "100%|████████████████████████████| 15/15 [00:00<00:00, 23.94it/s, loss=0.251, iou=0.61, dice_coef=0.749, accuracy=0.921]\n"
     ]
    },
    {
     "name": "stdout",
     "output_type": "stream",
     "text": [
      "loss 0.0762 - iou 0.8598 - dice 0.9238 - accuracy 0.9685 - val_loss 0.2509 - val_iou 0.6097 - val_dice 0.7491 - val_accuracy 0.9210\n",
      "Epoch [36/100]\n"
     ]
    },
    {
     "name": "stderr",
     "output_type": "stream",
     "text": [
      "100%|██████████████████████████| 88/88 [00:11<00:00,  7.78it/s, loss=0.0856, iou=0.844, dice_coef=0.914, accuracy=0.965]\n",
      "100%|███████████████████████████| 15/15 [00:00<00:00, 23.83it/s, loss=0.252, iou=0.604, dice_coef=0.748, accuracy=0.911]\n"
     ]
    },
    {
     "name": "stdout",
     "output_type": "stream",
     "text": [
      "loss 0.0856 - iou 0.8436 - dice 0.9144 - accuracy 0.9648 - val_loss 0.2520 - val_iou 0.6041 - val_dice 0.7480 - val_accuracy 0.9114\n",
      "Epoch [37/100]\n"
     ]
    },
    {
     "name": "stderr",
     "output_type": "stream",
     "text": [
      "100%|██████████████████████████| 88/88 [00:11<00:00,  7.81it/s, loss=0.0714, iou=0.867, dice_coef=0.929, accuracy=0.968]\n",
      "100%|███████████████████████████| 15/15 [00:00<00:00, 23.77it/s, loss=0.239, iou=0.624, dice_coef=0.761, accuracy=0.926]\n"
     ]
    },
    {
     "name": "stdout",
     "output_type": "stream",
     "text": [
      "loss 0.0714 - iou 0.8674 - dice 0.9286 - accuracy 0.9683 - val_loss 0.2392 - val_iou 0.6238 - val_dice 0.7608 - val_accuracy 0.9256\n",
      "=> saved best model\n",
      "Epoch [38/100]\n"
     ]
    },
    {
     "name": "stderr",
     "output_type": "stream",
     "text": [
      "100%|██████████████████████████| 88/88 [00:11<00:00,  7.63it/s, loss=0.0676, iou=0.874, dice_coef=0.932, accuracy=0.969]\n",
      "100%|█████████████████████████████| 15/15 [00:00<00:00, 23.43it/s, loss=0.25, iou=0.612, dice_coef=0.75, accuracy=0.923]\n"
     ]
    },
    {
     "name": "stdout",
     "output_type": "stream",
     "text": [
      "loss 0.0676 - iou 0.8742 - dice 0.9324 - accuracy 0.9694 - val_loss 0.2496 - val_iou 0.6115 - val_dice 0.7504 - val_accuracy 0.9232\n",
      "Epoch [39/100]\n"
     ]
    },
    {
     "name": "stderr",
     "output_type": "stream",
     "text": [
      "100%|███████████████████████████| 88/88 [00:11<00:00,  7.66it/s, loss=0.0602, iou=0.887, dice_coef=0.94, accuracy=0.971]\n",
      "100%|███████████████████████████| 15/15 [00:00<00:00, 23.49it/s, loss=0.249, iou=0.611, dice_coef=0.751, accuracy=0.925]\n"
     ]
    },
    {
     "name": "stdout",
     "output_type": "stream",
     "text": [
      "loss 0.0602 - iou 0.8871 - dice 0.9398 - accuracy 0.9710 - val_loss 0.2494 - val_iou 0.6110 - val_dice 0.7506 - val_accuracy 0.9247\n",
      "Epoch [40/100]\n"
     ]
    },
    {
     "name": "stderr",
     "output_type": "stream",
     "text": [
      "100%|███████████████████████████| 88/88 [00:11<00:00,  7.71it/s, loss=0.0585, iou=0.89, dice_coef=0.942, accuracy=0.971]\n",
      "100%|███████████████████████████| 15/15 [00:00<00:00, 23.71it/s, loss=0.246, iou=0.611, dice_coef=0.754, accuracy=0.915]\n"
     ]
    },
    {
     "name": "stdout",
     "output_type": "stream",
     "text": [
      "loss 0.0585 - iou 0.8903 - dice 0.9415 - accuracy 0.9715 - val_loss 0.2462 - val_iou 0.6110 - val_dice 0.7538 - val_accuracy 0.9147\n",
      "Epoch [41/100]\n"
     ]
    },
    {
     "name": "stderr",
     "output_type": "stream",
     "text": [
      "100%|████████████████████████████| 88/88 [00:11<00:00,  7.67it/s, loss=0.0531, iou=0.9, dice_coef=0.947, accuracy=0.973]\n",
      "100%|███████████████████████████| 15/15 [00:00<00:00, 23.28it/s, loss=0.227, iou=0.638, dice_coef=0.773, accuracy=0.927]\n"
     ]
    },
    {
     "name": "stdout",
     "output_type": "stream",
     "text": [
      "loss 0.0531 - iou 0.8997 - dice 0.9469 - accuracy 0.9727 - val_loss 0.2271 - val_iou 0.6376 - val_dice 0.7729 - val_accuracy 0.9271\n",
      "=> saved best model\n",
      "Epoch [42/100]\n"
     ]
    },
    {
     "name": "stderr",
     "output_type": "stream",
     "text": [
      "100%|██████████████████████████| 88/88 [00:11<00:00,  7.66it/s, loss=0.0743, iou=0.864, dice_coef=0.926, accuracy=0.966]\n",
      "100%|███████████████████████████| 15/15 [00:00<00:00, 23.46it/s, loss=0.284, iou=0.563, dice_coef=0.716, accuracy=0.892]\n"
     ]
    },
    {
     "name": "stdout",
     "output_type": "stream",
     "text": [
      "loss 0.0743 - iou 0.8643 - dice 0.9257 - accuracy 0.9663 - val_loss 0.2841 - val_iou 0.5633 - val_dice 0.7159 - val_accuracy 0.8925\n",
      "Epoch [43/100]\n"
     ]
    },
    {
     "name": "stderr",
     "output_type": "stream",
     "text": [
      "100%|███████████████████████████| 88/88 [00:11<00:00,  7.68it/s, loss=0.101, iou=0.819, dice_coef=0.899, accuracy=0.957]\n",
      "100%|████████████████████████████| 15/15 [00:00<00:00, 23.38it/s, loss=0.283, iou=0.562, dice_coef=0.717, accuracy=0.89]\n"
     ]
    },
    {
     "name": "stdout",
     "output_type": "stream",
     "text": [
      "loss 0.1011 - iou 0.8193 - dice 0.8989 - accuracy 0.9575 - val_loss 0.2834 - val_iou 0.5621 - val_dice 0.7166 - val_accuracy 0.8899\n",
      "Epoch [44/100]\n"
     ]
    },
    {
     "name": "stderr",
     "output_type": "stream",
     "text": [
      "100%|███████████████████████████| 88/88 [00:11<00:00,  7.62it/s, loss=0.0646, iou=0.88, dice_coef=0.935, accuracy=0.969]\n",
      "100%|███████████████████████████| 15/15 [00:00<00:00, 23.49it/s, loss=0.227, iou=0.636, dice_coef=0.773, accuracy=0.919]\n"
     ]
    },
    {
     "name": "stdout",
     "output_type": "stream",
     "text": [
      "loss 0.0646 - iou 0.8796 - dice 0.9354 - accuracy 0.9685 - val_loss 0.2274 - val_iou 0.6359 - val_dice 0.7726 - val_accuracy 0.9192\n",
      "Epoch [45/100]\n"
     ]
    },
    {
     "name": "stderr",
     "output_type": "stream",
     "text": [
      "100%|██████████████████████████| 88/88 [00:11<00:00,  7.43it/s, loss=0.0561, iou=0.894, dice_coef=0.944, accuracy=0.971]\n",
      "100%|█████████████████████████████| 15/15 [00:00<00:00, 23.29it/s, loss=0.28, iou=0.575, dice_coef=0.72, accuracy=0.918]\n"
     ]
    },
    {
     "name": "stdout",
     "output_type": "stream",
     "text": [
      "loss 0.0561 - iou 0.8944 - dice 0.9439 - accuracy 0.9709 - val_loss 0.2802 - val_iou 0.5749 - val_dice 0.7198 - val_accuracy 0.9178\n",
      "Epoch [46/100]\n"
     ]
    },
    {
     "name": "stderr",
     "output_type": "stream",
     "text": [
      "100%|██████████████████████████| 88/88 [00:11<00:00,  7.53it/s, loss=0.0524, iou=0.901, dice_coef=0.948, accuracy=0.972]\n",
      "100%|███████████████████████████| 15/15 [00:00<00:00, 23.34it/s, loss=0.221, iou=0.646, dice_coef=0.779, accuracy=0.926]\n"
     ]
    },
    {
     "name": "stdout",
     "output_type": "stream",
     "text": [
      "loss 0.0524 - iou 0.9012 - dice 0.9476 - accuracy 0.9719 - val_loss 0.2211 - val_iou 0.6461 - val_dice 0.7789 - val_accuracy 0.9264\n",
      "=> saved best model\n",
      "Epoch [47/100]\n"
     ]
    },
    {
     "name": "stderr",
     "output_type": "stream",
     "text": [
      "100%|██████████████████████████| 88/88 [00:11<00:00,  7.64it/s, loss=0.0458, iou=0.913, dice_coef=0.954, accuracy=0.973]\n",
      "100%|███████████████████████████| 15/15 [00:00<00:00, 23.59it/s, loss=0.233, iou=0.631, dice_coef=0.767, accuracy=0.926]\n"
     ]
    },
    {
     "name": "stdout",
     "output_type": "stream",
     "text": [
      "loss 0.0458 - iou 0.9128 - dice 0.9542 - accuracy 0.9733 - val_loss 0.2330 - val_iou 0.6315 - val_dice 0.7670 - val_accuracy 0.9256\n",
      "Epoch [48/100]\n"
     ]
    },
    {
     "name": "stderr",
     "output_type": "stream",
     "text": [
      "100%|███████████████████████████| 88/88 [00:11<00:00,  7.63it/s, loss=0.0421, iou=0.92, dice_coef=0.958, accuracy=0.974]\n",
      "100%|███████████████████████████| 15/15 [00:00<00:00, 23.48it/s, loss=0.231, iou=0.636, dice_coef=0.769, accuracy=0.927]\n"
     ]
    },
    {
     "name": "stdout",
     "output_type": "stream",
     "text": [
      "loss 0.0421 - iou 0.9196 - dice 0.9579 - accuracy 0.9741 - val_loss 0.2307 - val_iou 0.6359 - val_dice 0.7693 - val_accuracy 0.9268\n",
      "Epoch [49/100]\n"
     ]
    },
    {
     "name": "stderr",
     "output_type": "stream",
     "text": [
      "100%|██████████████████████████| 88/88 [00:12<00:00,  7.14it/s, loss=0.0413, iou=0.921, dice_coef=0.959, accuracy=0.975]\n",
      "100%|███████████████████████████| 15/15 [00:00<00:00, 23.47it/s, loss=0.224, iou=0.642, dice_coef=0.776, accuracy=0.928]\n"
     ]
    },
    {
     "name": "stdout",
     "output_type": "stream",
     "text": [
      "loss 0.0413 - iou 0.9212 - dice 0.9587 - accuracy 0.9746 - val_loss 0.2245 - val_iou 0.6419 - val_dice 0.7755 - val_accuracy 0.9277\n",
      "Epoch [50/100]\n"
     ]
    },
    {
     "name": "stderr",
     "output_type": "stream",
     "text": [
      "100%|██████████████████████████| 88/88 [00:11<00:00,  7.54it/s, loss=0.0393, iou=0.925, dice_coef=0.961, accuracy=0.975]\n",
      "100%|███████████████████████████| 15/15 [00:00<00:00, 23.36it/s, loss=0.214, iou=0.655, dice_coef=0.786, accuracy=0.927]\n"
     ]
    },
    {
     "name": "stdout",
     "output_type": "stream",
     "text": [
      "loss 0.0393 - iou 0.9246 - dice 0.9607 - accuracy 0.9747 - val_loss 0.2142 - val_iou 0.6546 - val_dice 0.7858 - val_accuracy 0.9272\n",
      "=> saved best model\n",
      "Epoch [51/100]\n"
     ]
    },
    {
     "name": "stderr",
     "output_type": "stream",
     "text": [
      "100%|███████████████████████████| 88/88 [00:11<00:00,  7.52it/s, loss=0.0396, iou=0.924, dice_coef=0.96, accuracy=0.974]\n",
      "100%|█████████████████████████████| 15/15 [00:00<00:00, 22.99it/s, loss=0.25, iou=0.613, dice_coef=0.75, accuracy=0.924]\n"
     ]
    },
    {
     "name": "stdout",
     "output_type": "stream",
     "text": [
      "loss 0.0396 - iou 0.9240 - dice 0.9604 - accuracy 0.9743 - val_loss 0.2499 - val_iou 0.6130 - val_dice 0.7501 - val_accuracy 0.9239\n",
      "Epoch [52/100]\n"
     ]
    },
    {
     "name": "stderr",
     "output_type": "stream",
     "text": [
      "100%|███████████████████████████| 88/88 [00:11<00:00,  7.53it/s, loss=0.0363, iou=0.93, dice_coef=0.964, accuracy=0.975]\n",
      "100%|███████████████████████████| 15/15 [00:00<00:00, 23.30it/s, loss=0.229, iou=0.641, dice_coef=0.771, accuracy=0.927]\n"
     ]
    },
    {
     "name": "stdout",
     "output_type": "stream",
     "text": [
      "loss 0.0363 - iou 0.9302 - dice 0.9637 - accuracy 0.9751 - val_loss 0.2286 - val_iou 0.6406 - val_dice 0.7714 - val_accuracy 0.9275\n",
      "Epoch [53/100]\n"
     ]
    },
    {
     "name": "stderr",
     "output_type": "stream",
     "text": [
      "100%|███████████████████████████| 88/88 [00:11<00:00,  7.53it/s, loss=0.0363, iou=0.93, dice_coef=0.964, accuracy=0.975]\n",
      "100%|████████████████████████████| 15/15 [00:00<00:00, 23.20it/s, loss=0.228, iou=0.64, dice_coef=0.772, accuracy=0.928]\n"
     ]
    },
    {
     "name": "stdout",
     "output_type": "stream",
     "text": [
      "loss 0.0363 - iou 0.9304 - dice 0.9637 - accuracy 0.9751 - val_loss 0.2282 - val_iou 0.6399 - val_dice 0.7718 - val_accuracy 0.9283\n",
      "Epoch [54/100]\n"
     ]
    },
    {
     "name": "stderr",
     "output_type": "stream",
     "text": [
      "100%|██████████████████████████| 88/88 [00:11<00:00,  7.54it/s, loss=0.0369, iou=0.929, dice_coef=0.963, accuracy=0.975]\n",
      "100%|███████████████████████████| 15/15 [00:00<00:00, 22.55it/s, loss=0.223, iou=0.643, dice_coef=0.777, accuracy=0.921]\n"
     ]
    },
    {
     "name": "stdout",
     "output_type": "stream",
     "text": [
      "loss 0.0369 - iou 0.9292 - dice 0.9631 - accuracy 0.9749 - val_loss 0.2227 - val_iou 0.6426 - val_dice 0.7773 - val_accuracy 0.9213\n",
      "Epoch [55/100]\n"
     ]
    },
    {
     "name": "stderr",
     "output_type": "stream",
     "text": [
      "100%|██████████████████████████| 88/88 [00:11<00:00,  7.53it/s, loss=0.0351, iou=0.932, dice_coef=0.965, accuracy=0.975]\n",
      "100%|███████████████████████████| 15/15 [00:00<00:00, 23.37it/s, loss=0.219, iou=0.651, dice_coef=0.781, accuracy=0.929]\n"
     ]
    },
    {
     "name": "stdout",
     "output_type": "stream",
     "text": [
      "loss 0.0351 - iou 0.9323 - dice 0.9649 - accuracy 0.9752 - val_loss 0.2193 - val_iou 0.6511 - val_dice 0.7807 - val_accuracy 0.9292\n",
      "Epoch [56/100]\n"
     ]
    },
    {
     "name": "stderr",
     "output_type": "stream",
     "text": [
      "100%|██████████████████████████| 88/88 [00:11<00:00,  7.43it/s, loss=0.0333, iou=0.936, dice_coef=0.967, accuracy=0.976]\n",
      "100%|███████████████████████████| 15/15 [00:00<00:00, 22.81it/s, loss=0.213, iou=0.656, dice_coef=0.787, accuracy=0.926]\n"
     ]
    },
    {
     "name": "stdout",
     "output_type": "stream",
     "text": [
      "loss 0.0333 - iou 0.9357 - dice 0.9667 - accuracy 0.9756 - val_loss 0.2130 - val_iou 0.6559 - val_dice 0.7870 - val_accuracy 0.9261\n",
      "=> saved best model\n",
      "Epoch [57/100]\n"
     ]
    },
    {
     "name": "stderr",
     "output_type": "stream",
     "text": [
      "100%|██████████████████████████| 88/88 [00:11<00:00,  7.38it/s, loss=0.0376, iou=0.928, dice_coef=0.962, accuracy=0.974]\n",
      "100%|█████████████████████████████| 15/15 [00:00<00:00, 22.90it/s, loss=0.23, iou=0.635, dice_coef=0.77, accuracy=0.922]\n"
     ]
    },
    {
     "name": "stdout",
     "output_type": "stream",
     "text": [
      "loss 0.0376 - iou 0.9279 - dice 0.9624 - accuracy 0.9742 - val_loss 0.2296 - val_iou 0.6353 - val_dice 0.7704 - val_accuracy 0.9221\n",
      "Epoch [58/100]\n"
     ]
    },
    {
     "name": "stderr",
     "output_type": "stream",
     "text": [
      "100%|██████████████████████████| 88/88 [00:11<00:00,  7.44it/s, loss=0.0468, iou=0.911, dice_coef=0.953, accuracy=0.972]\n",
      "100%|█████████████████████████████| 15/15 [00:00<00:00, 22.88it/s, loss=0.25, iou=0.614, dice_coef=0.75, accuracy=0.922]\n"
     ]
    },
    {
     "name": "stdout",
     "output_type": "stream",
     "text": [
      "loss 0.0468 - iou 0.9112 - dice 0.9532 - accuracy 0.9715 - val_loss 0.2498 - val_iou 0.6138 - val_dice 0.7502 - val_accuracy 0.9221\n",
      "Epoch [59/100]\n"
     ]
    },
    {
     "name": "stderr",
     "output_type": "stream",
     "text": [
      "100%|██████████████████████████| 88/88 [00:11<00:00,  7.44it/s, loss=0.0455, iou=0.913, dice_coef=0.954, accuracy=0.972]\n",
      "100%|█████████████████████████████| 15/15 [00:00<00:00, 22.77it/s, loss=0.24, iou=0.623, dice_coef=0.76, accuracy=0.918]\n"
     ]
    },
    {
     "name": "stdout",
     "output_type": "stream",
     "text": [
      "loss 0.0455 - iou 0.9133 - dice 0.9545 - accuracy 0.9717 - val_loss 0.2402 - val_iou 0.6231 - val_dice 0.7598 - val_accuracy 0.9176\n",
      "Epoch [60/100]\n"
     ]
    },
    {
     "name": "stderr",
     "output_type": "stream",
     "text": [
      "100%|██████████████████████████| 88/88 [00:11<00:00,  7.45it/s, loss=0.0695, iou=0.871, dice_coef=0.931, accuracy=0.965]\n",
      "100%|███████████████████████████| 15/15 [00:00<00:00, 22.95it/s, loss=0.292, iou=0.556, dice_coef=0.708, accuracy=0.888]\n"
     ]
    },
    {
     "name": "stdout",
     "output_type": "stream",
     "text": [
      "loss 0.0695 - iou 0.8712 - dice 0.9305 - accuracy 0.9649 - val_loss 0.2916 - val_iou 0.5556 - val_dice 0.7084 - val_accuracy 0.8879\n",
      "Epoch [61/100]\n"
     ]
    },
    {
     "name": "stderr",
     "output_type": "stream",
     "text": [
      "100%|██████████████████████████| 88/88 [00:11<00:00,  7.56it/s, loss=0.0557, iou=0.895, dice_coef=0.944, accuracy=0.969]\n",
      "100%|███████████████████████████| 15/15 [00:00<00:00, 23.31it/s, loss=0.254, iou=0.604, dice_coef=0.746, accuracy=0.919]\n"
     ]
    },
    {
     "name": "stdout",
     "output_type": "stream",
     "text": [
      "loss 0.0557 - iou 0.8953 - dice 0.9443 - accuracy 0.9687 - val_loss 0.2538 - val_iou 0.6036 - val_dice 0.7462 - val_accuracy 0.9192\n",
      "Epoch [62/100]\n"
     ]
    },
    {
     "name": "stderr",
     "output_type": "stream",
     "text": [
      "100%|██████████████████████████| 88/88 [00:12<00:00,  7.33it/s, loss=0.0439, iou=0.916, dice_coef=0.956, accuracy=0.972]\n",
      "100%|███████████████████████████| 15/15 [00:00<00:00, 21.93it/s, loss=0.209, iou=0.662, dice_coef=0.791, accuracy=0.926]\n"
     ]
    },
    {
     "name": "stdout",
     "output_type": "stream",
     "text": [
      "loss 0.0439 - iou 0.9163 - dice 0.9561 - accuracy 0.9724 - val_loss 0.2087 - val_iou 0.6621 - val_dice 0.7913 - val_accuracy 0.9265\n",
      "=> saved best model\n",
      "Epoch [63/100]\n"
     ]
    },
    {
     "name": "stderr",
     "output_type": "stream",
     "text": [
      "100%|██████████████████████████| 88/88 [00:11<00:00,  7.56it/s, loss=0.0352, iou=0.932, dice_coef=0.965, accuracy=0.975]\n",
      "100%|███████████████████████████| 15/15 [00:00<00:00, 23.31it/s, loss=0.241, iou=0.624, dice_coef=0.759, accuracy=0.926]\n"
     ]
    },
    {
     "name": "stdout",
     "output_type": "stream",
     "text": [
      "loss 0.0352 - iou 0.9322 - dice 0.9648 - accuracy 0.9748 - val_loss 0.2407 - val_iou 0.6242 - val_dice 0.7593 - val_accuracy 0.9258\n",
      "Epoch [64/100]\n"
     ]
    },
    {
     "name": "stderr",
     "output_type": "stream",
     "text": [
      "100%|██████████████████████████| 88/88 [00:11<00:00,  7.52it/s, loss=0.0314, iou=0.939, dice_coef=0.969, accuracy=0.976]\n",
      "100%|███████████████████████████| 15/15 [00:00<00:00, 23.05it/s, loss=0.218, iou=0.649, dice_coef=0.782, accuracy=0.928]\n"
     ]
    },
    {
     "name": "stdout",
     "output_type": "stream",
     "text": [
      "loss 0.0314 - iou 0.9393 - dice 0.9686 - accuracy 0.9756 - val_loss 0.2185 - val_iou 0.6492 - val_dice 0.7815 - val_accuracy 0.9277\n",
      "Epoch [65/100]\n"
     ]
    },
    {
     "name": "stderr",
     "output_type": "stream",
     "text": [
      "100%|██████████████████████████| 88/88 [00:11<00:00,  7.48it/s, loss=0.0289, iou=0.944, dice_coef=0.971, accuracy=0.976]\n",
      "100%|███████████████████████████| 15/15 [00:00<00:00, 22.90it/s, loss=0.226, iou=0.641, dice_coef=0.774, accuracy=0.927]\n"
     ]
    },
    {
     "name": "stdout",
     "output_type": "stream",
     "text": [
      "loss 0.0289 - iou 0.9439 - dice 0.9711 - accuracy 0.9761 - val_loss 0.2263 - val_iou 0.6407 - val_dice 0.7737 - val_accuracy 0.9269\n",
      "Epoch [66/100]\n"
     ]
    },
    {
     "name": "stderr",
     "output_type": "stream",
     "text": [
      "100%|██████████████████████████| 88/88 [00:11<00:00,  7.45it/s, loss=0.0281, iou=0.946, dice_coef=0.972, accuracy=0.976]\n",
      "100%|███████████████████████████| 15/15 [00:00<00:00, 22.55it/s, loss=0.231, iou=0.636, dice_coef=0.769, accuracy=0.926]\n"
     ]
    },
    {
     "name": "stdout",
     "output_type": "stream",
     "text": [
      "loss 0.0281 - iou 0.9455 - dice 0.9719 - accuracy 0.9762 - val_loss 0.2315 - val_iou 0.6361 - val_dice 0.7685 - val_accuracy 0.9258\n",
      "Epoch [67/100]\n"
     ]
    },
    {
     "name": "stderr",
     "output_type": "stream",
     "text": [
      "100%|██████████████████████████| 88/88 [00:11<00:00,  7.37it/s, loss=0.0286, iou=0.945, dice_coef=0.971, accuracy=0.976]\n",
      "100%|█████████████████████████████| 15/15 [00:00<00:00, 22.47it/s, loss=0.23, iou=0.637, dice_coef=0.77, accuracy=0.927]\n"
     ]
    },
    {
     "name": "stdout",
     "output_type": "stream",
     "text": [
      "loss 0.0286 - iou 0.9445 - dice 0.9714 - accuracy 0.9761 - val_loss 0.2295 - val_iou 0.6374 - val_dice 0.7705 - val_accuracy 0.9272\n",
      "Epoch [68/100]\n"
     ]
    },
    {
     "name": "stderr",
     "output_type": "stream",
     "text": [
      "100%|██████████████████████████| 88/88 [00:11<00:00,  7.50it/s, loss=0.0274, iou=0.947, dice_coef=0.973, accuracy=0.976]\n",
      "100%|█████████████████████████████| 15/15 [00:00<00:00, 23.26it/s, loss=0.23, iou=0.636, dice_coef=0.77, accuracy=0.926]\n"
     ]
    },
    {
     "name": "stdout",
     "output_type": "stream",
     "text": [
      "loss 0.0274 - iou 0.9468 - dice 0.9726 - accuracy 0.9763 - val_loss 0.2299 - val_iou 0.6357 - val_dice 0.7701 - val_accuracy 0.9262\n",
      "Epoch [69/100]\n"
     ]
    },
    {
     "name": "stderr",
     "output_type": "stream",
     "text": [
      "100%|███████████████████████████| 88/88 [00:11<00:00,  7.50it/s, loss=0.0258, iou=0.95, dice_coef=0.974, accuracy=0.977]\n",
      "100%|███████████████████████████| 15/15 [00:00<00:00, 23.11it/s, loss=0.217, iou=0.652, dice_coef=0.783, accuracy=0.928]\n"
     ]
    },
    {
     "name": "stdout",
     "output_type": "stream",
     "text": [
      "loss 0.0258 - iou 0.9499 - dice 0.9742 - accuracy 0.9767 - val_loss 0.2171 - val_iou 0.6520 - val_dice 0.7829 - val_accuracy 0.9284\n",
      "Epoch [70/100]\n"
     ]
    },
    {
     "name": "stderr",
     "output_type": "stream",
     "text": [
      "100%|██████████████████████████| 88/88 [00:11<00:00,  7.44it/s, loss=0.0251, iou=0.951, dice_coef=0.975, accuracy=0.977]\n",
      "100%|███████████████████████████| 15/15 [00:00<00:00, 22.64it/s, loss=0.223, iou=0.645, dice_coef=0.777, accuracy=0.928]\n"
     ]
    },
    {
     "name": "stdout",
     "output_type": "stream",
     "text": [
      "loss 0.0251 - iou 0.9513 - dice 0.9749 - accuracy 0.9768 - val_loss 0.2230 - val_iou 0.6451 - val_dice 0.7770 - val_accuracy 0.9277\n",
      "Epoch [71/100]\n"
     ]
    },
    {
     "name": "stderr",
     "output_type": "stream",
     "text": [
      "100%|██████████████████████████| 88/88 [00:11<00:00,  7.42it/s, loss=0.0241, iou=0.953, dice_coef=0.976, accuracy=0.977]\n",
      "100%|███████████████████████████| 15/15 [00:00<00:00, 22.61it/s, loss=0.227, iou=0.641, dice_coef=0.773, accuracy=0.927]\n"
     ]
    },
    {
     "name": "stdout",
     "output_type": "stream",
     "text": [
      "loss 0.0241 - iou 0.9529 - dice 0.9759 - accuracy 0.9769 - val_loss 0.2267 - val_iou 0.6405 - val_dice 0.7733 - val_accuracy 0.9274\n",
      "Epoch [72/100]\n"
     ]
    },
    {
     "name": "stderr",
     "output_type": "stream",
     "text": [
      "100%|██████████████████████████| 88/88 [00:11<00:00,  7.41it/s, loss=0.0245, iou=0.952, dice_coef=0.975, accuracy=0.977]\n",
      "100%|███████████████████████████| 15/15 [00:00<00:00, 22.64it/s, loss=0.229, iou=0.638, dice_coef=0.771, accuracy=0.927]"
     ]
    },
    {
     "name": "stdout",
     "output_type": "stream",
     "text": [
      "loss 0.0245 - iou 0.9523 - dice 0.9755 - accuracy 0.9769 - val_loss 0.2285 - val_iou 0.6385 - val_dice 0.7715 - val_accuracy 0.9271\n",
      "=> early stopping\n"
     ]
    },
    {
     "name": "stderr",
     "output_type": "stream",
     "text": [
      "\n"
     ]
    }
   ],
   "source": [
    "from src.train_val_test import train, evaluate\n",
    "from collections import OrderedDict\n",
    "\n",
    "log = OrderedDict([\n",
    "    ('epoch', []),\n",
    "    ('loss', []),\n",
    "    ('iou', []),\n",
    "    ('dice',[]),\n",
    "    ('accuracy',[]),\n",
    "    ('val_loss', []),\n",
    "    ('val_iou', []),\n",
    "    ('val_dice',[]),\n",
    "    ('val_accuracy',[])\n",
    "])\n",
    "\n",
    "best_dice = 0\n",
    "trigger = 0\n",
    "for epoch in range(config['epochs']):\n",
    "    print('Epoch [%d/%d]' % (epoch, config['epochs']))\n",
    "\n",
    "    # train for one epoch\n",
    "    train_log = train(config, model, train_iterator, criterion, optimizer, config['deep_supervision'], device)\n",
    "    # evaluate on validation set\n",
    "    val_log = evaluate(config, model, val_iterator, criterion, config['deep_supervision'], device)\n",
    "\n",
    "    print('loss %.4f - iou %.4f - dice %.4f - accuracy %.4f - val_loss %.4f - val_iou %.4f - val_dice %.4f - val_accuracy %.4f'\n",
    "          % (train_log['loss'], train_log['iou'], train_log['dice_coef'], train_log['accuracy'],\n",
    "             val_log['loss'], val_log['iou'], val_log['dice_coef'], val_log['accuracy']))\n",
    "\n",
    "    log['epoch'].append(epoch)\n",
    "    log['loss'].append(train_log['loss'])\n",
    "    log['iou'].append(train_log['iou'])\n",
    "    log['dice'].append(train_log['dice_coef'])\n",
    "    log['accuracy'].append(train_log['accuracy'])\n",
    "    log['val_loss'].append(val_log['loss'])\n",
    "    log['val_iou'].append(val_log['iou'])\n",
    "    log['val_dice'].append(val_log['dice_coef'])\n",
    "    log['val_accuracy'].append(val_log['accuracy'])\n",
    "    \n",
    "    pd.DataFrame(log).to_csv('models/%s/log.csv' %\n",
    "                             config['name'], index=False)\n",
    "\n",
    "    trigger += 1\n",
    "\n",
    "    if val_log['dice_coef'] > best_dice:\n",
    "        torch.save(model.state_dict(), 'models/%s/model.pth' %\n",
    "                   config['name'])\n",
    "        best_dice = val_log['dice_coef']\n",
    "        print(\"=> saved best model\")\n",
    "        trigger = 0\n",
    "\n",
    "    # Reduce learning rate when validation metric stops improving\n",
    "    scheduler.step(val_log['loss'])\n",
    "\n",
    "    # early stopping\n",
    "    if config['early_stopping'] >= 0 and trigger >= config['early_stopping']:\n",
    "        print(\"=> early stopping\")\n",
    "        break\n",
    "\n",
    "    torch.cuda.empty_cache()"
   ]
  },
  {
   "cell_type": "code",
   "execution_count": 17,
   "id": "d80feb91-12ad-4640-a38a-4ced108bbc2d",
   "metadata": {},
   "outputs": [
    {
     "name": "stderr",
     "output_type": "stream",
     "text": [
      "100%|████████████████████████████| 38/38 [00:01<00:00, 22.85it/s, loss=0.215, iou=0.653, dice_coef=0.785, accuracy=0.93]"
     ]
    },
    {
     "name": "stdout",
     "output_type": "stream",
     "text": [
      "test_loss 0.2147 - test_iou 0.6527 - test_dice 0.7853 - test_accuracy 0.9302\n"
     ]
    },
    {
     "name": "stderr",
     "output_type": "stream",
     "text": [
      "\n"
     ]
    }
   ],
   "source": [
    "test_log = evaluate(config, model, test_iterator, criterion, config['deep_supervision'], device)\n",
    "\n",
    "pd.DataFrame([test_log]).to_csv('models/%s/test_log.csv' % config['name'])\n",
    "\n",
    "print('test_loss %.4f - test_iou %.4f - test_dice %.4f - test_accuracy %.4f'\n",
    "          % (test_log['loss'], test_log['iou'], test_log['dice_coef'], test_log['accuracy']))"
   ]
  },
  {
   "cell_type": "code",
   "execution_count": 6,
   "id": "12877654-5bd5-4c2d-b4f5-d7d6b1350bae",
   "metadata": {},
   "outputs": [
    {
     "data": {
      "image/png": "[encoded data removed]",
      "text/plain": [
       "<Figure size 1200x1200 with 4 Axes>"
      ]
     },
     "metadata": {},
     "output_type": "display_data"
    }
   ],
   "source": [
    "import matplotlib.pyplot as plt\n",
    "import pandas as pd\n",
    "\n",
    "# Read the CSV file into a DataFrame\n",
    "df = pd.read_csv('models/Deeper_Att_DiceLoss_try_Aug/log.csv')\n",
    "test = pd.read_csv('models/Deeper_Att_DiceLoss_try_Aug/test_log.csv')\n",
    "\n",
    "# Test values for loss, IoU, and Dice coefficients\n",
    "test_loss = test['loss'].item()  \n",
    "test_iou = test['iou'].item() \n",
    "test_dice = test['dice_coef'].item() \n",
    "test_accuracy = test['accuracy'].item() \n",
    "\n",
    "# Create a figure and subplots\n",
    "fig, ((ax1, ax2), (ax3, ax4)) = plt.subplots(2, 2, figsize=(12, 12))\n",
    "\n",
    "# Plot the loss features in the first subplot\n",
    "ax1.plot(df['epoch'], df['loss'], label='Training Loss')\n",
    "ax1.plot(df['epoch'], df['val_loss'], label='Validation Loss')\n",
    "ax1.axhline(y=test_loss, color='r', linestyle='--', label='Test Loss')\n",
    "ax1.annotate(f'{test_loss:.2f}', xy=(90, test_loss+0.005), color='r')\n",
    "ax1.set_title('Loss Metrics')\n",
    "ax1.set_xlabel('Epoch')\n",
    "ax1.set_ylabel('Loss')\n",
    "ax1.legend()\n",
    "\n",
    "ax2.plot(df['epoch'], df['accuracy'], label='Training Accuracy')\n",
    "ax2.plot(df['epoch'], df['val_accuracy'], label='Validation Accuracy')\n",
    "ax2.axhline(y=test_accuracy, color='r', linestyle='--', label='Test Accuracy')\n",
    "ax2.annotate(f'{test_accuracy:.2f}', xy=(90, test_accuracy+0.002), color='r')\n",
    "ax2.set_title('Accuracy Metrics')\n",
    "ax2.set_xlabel('Epoch')\n",
    "ax2.set_ylabel('Accuracy')\n",
    "ax2.legend()\n",
    "\n",
    "ax3.plot(df['epoch'], df['iou'], label='Training IoU')\n",
    "ax3.plot(df['epoch'], df['val_iou'], label='Validation IoU')\n",
    "ax3.axhline(y=test_iou, color='r', linestyle='--', label='Test IoU')\n",
    "ax3.annotate(f'{test_iou:.2f}', xy=(90, test_iou+0.003), color='r')\n",
    "ax3.set_title('IoU Metrics')\n",
    "ax3.set_xlabel('Epoch')\n",
    "ax3.set_ylabel('IoU')\n",
    "ax3.legend()\n",
    "\n",
    "ax4.plot(df['epoch'], df['dice'], label='Training Dice')\n",
    "ax4.plot(df['epoch'], df['val_dice'], label='Validation Dice')\n",
    "ax4.axhline(y=test_dice, color='r', linestyle='--', label='Test Dice')\n",
    "ax4.annotate(f'{test_dice:.2f}', xy=(90, test_dice+0.005), color='r')\n",
    "ax4.set_title('Dice Metrics')\n",
    "ax4.set_xlabel('Epoch')\n",
    "ax4.set_ylabel('Dice')\n",
    "ax4.legend()\n",
    "\n",
    "fig.suptitle(\"Deeper Attention UNET with DiceLoss and with Data Augmentation\")\n",
    "# Adjust the spacing between subplots\n",
    "plt.tight_layout()\n",
    "\n",
    "plt.savefig(\"results/Deeper_Att_DiceLoss_Aug.png\")\n",
    "# Display the plot\n",
    "plt.show()"
   ]
  },
  {
   "cell_type": "code",
   "execution_count": null,
   "id": "b1f23e13-3c36-469c-8e3e-88232c683f0e",
   "metadata": {},
   "outputs": [],
   "source": []
  },
  {
   "cell_type": "code",
   "execution_count": null,
   "id": "9e805e4e-d78f-4bc0-be2b-fd0dd7a0187c",
   "metadata": {},
   "outputs": [],
   "source": []
  },
  {
   "cell_type": "code",
   "execution_count": null,
   "id": "9b99ef2b-2d39-4cff-8441-2df0f72ef341",
   "metadata": {},
   "outputs": [],
   "source": []
  },
  {
   "cell_type": "code",
   "execution_count": null,
   "id": "e67800e5-f217-4d8b-8a7c-9800e83d0efc",
   "metadata": {},
   "outputs": [],
   "source": []
  },
  {
   "cell_type": "code",
   "execution_count": null,
   "id": "e407c7cf-11d9-4922-b8c5-991eb68f9779",
   "metadata": {},
   "outputs": [],
   "source": []
  },
  {
   "cell_type": "code",
   "execution_count": null,
   "id": "98cee265-15d5-4a16-a673-78c37fcd17e4",
   "metadata": {},
   "outputs": [],
   "source": []
  },
  {
   "cell_type": "code",
   "execution_count": null,
   "id": "78dc5e87-0f51-41e8-8af1-6289254e325a",
   "metadata": {},
   "outputs": [],
   "source": []
  },
  {
   "cell_type": "code",
   "execution_count": null,
   "id": "70f54ce7-73cf-4e44-bec7-7dff7ebc658a",
   "metadata": {},
   "outputs": [],
   "source": []
  },
  {
   "cell_type": "code",
   "execution_count": null,
   "id": "97ae5a15-573f-43f8-8d09-1fffd5f6d078",
   "metadata": {},
   "outputs": [],
   "source": []
  },
  {
   "cell_type": "code",
   "execution_count": null,
   "id": "eb430f3a-3e9c-453d-87a4-6cf63aa642f5",
   "metadata": {},
   "outputs": [],
   "source": []
  },
  {
   "cell_type": "code",
   "execution_count": null,
   "id": "4dfcf1b3-8f2d-41b5-ba6c-1e1e34967be8",
   "metadata": {},
   "outputs": [],
   "source": []
  },
  {
   "cell_type": "code",
   "execution_count": null,
   "id": "b62026f2-8544-46f7-9b35-1786589a0b43",
   "metadata": {},
   "outputs": [],
   "source": []
  },
  {
   "cell_type": "code",
   "execution_count": null,
   "id": "3dccf718-6cc5-4872-a8b7-14744e8c0e31",
   "metadata": {},
   "outputs": [],
   "source": []
  },
  {
   "cell_type": "code",
   "execution_count": null,
   "id": "b0811f68-a50d-41a9-b94f-6f47a1e20822",
   "metadata": {},
   "outputs": [],
   "source": []
  },
  {
   "cell_type": "code",
   "execution_count": null,
   "id": "951cc938-6815-48aa-9632-78eacc1ca996",
   "metadata": {},
   "outputs": [],
   "source": []
  },
  {
   "cell_type": "code",
   "execution_count": null,
   "id": "2b49b980-fadc-4731-b604-17d12e2c2a77",
   "metadata": {},
   "outputs": [],
   "source": []
  }
 ],
 "metadata": {
  "kernelspec": {
   "display_name": "Python 3 (ipykernel)",
   "language": "python",
   "name": "python3"
  },
  "language_info": {
   "codemirror_mode": {
    "name": "ipython",
    "version": 3
   },
   "file_extension": ".py",
   "mimetype": "text/x-python",
   "name": "python",
   "nbconvert_exporter": "python",
   "pygments_lexer": "ipython3",
   "version": "3.10.12"
  }
 },
 "nbformat": 4,
 "nbformat_minor": 5
}
