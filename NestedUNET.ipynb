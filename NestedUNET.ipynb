{
 "cells": [
  {
   "cell_type": "code",
   "execution_count": 1,
   "id": "f6ad9121-d295-4262-95d6-6bafb6a6ea24",
   "metadata": {},
   "outputs": [],
   "source": [
    "import numpy as np\n",
    "import pandas as pd\n",
    "import random\n",
    "import torch"
   ]
  },
  {
   "cell_type": "markdown",
   "id": "fd86e08a-1793-417a-adb0-a7d393d96de9",
   "metadata": {
    "id": "n6MrmYKPOPHQ"
   },
   "source": [
    "Lets dynamically choose type of device to use for our computations. To run on your own GPU one needs to install pytorch and cuda-toolkit."
   ]
  },
  {
   "cell_type": "code",
   "execution_count": 2,
   "id": "c5a98662-e156-4ebb-984a-f57102ced797",
   "metadata": {
    "colab": {
     "base_uri": "https://localhost:8080/"
    },
    "id": "3ooJw43yONE2",
    "outputId": "afe428b8-b6b9-404f-9a21-b8175e5aeb7f"
   },
   "outputs": [
    {
     "name": "stdout",
     "output_type": "stream",
     "text": [
      "True\n"
     ]
    }
   ],
   "source": [
    "print(torch.cuda.is_available())\n",
    "device = torch.device(\"cuda\") if torch.cuda.is_available() else torch.device(\"cpu\")"
   ]
  },
  {
   "cell_type": "code",
   "execution_count": 3,
   "id": "eb2f9bc2-d877-4384-a1c1-64557b083917",
   "metadata": {},
   "outputs": [
    {
     "name": "stderr",
     "output_type": "stream",
     "text": [
      "/home/antoni_valls/CV/Kvasir-Semantic-Segmentation/.venv/lib/python3.10/site-packages/torch/cuda/__init__.py:619: UserWarning: Can't initialize NVML\n",
      "  warnings.warn(\"Can't initialize NVML\")\n"
     ]
    },
    {
     "data": {
      "text/plain": [
       "_CudaDeviceProperties(name='NVIDIA GeForce RTX 2080 Ti', major=7, minor=5, total_memory=10824MB, multi_processor_count=68)"
      ]
     },
     "execution_count": 3,
     "metadata": {},
     "output_type": "execute_result"
    }
   ],
   "source": [
    "torch.cuda.get_device_properties(device)"
   ]
  },
  {
   "cell_type": "markdown",
   "id": "d5a44df4-7501-4d28-9480-3717d3565b00",
   "metadata": {},
   "source": [
    "Define the seed for reproductivity:"
   ]
  },
  {
   "cell_type": "code",
   "execution_count": 4,
   "id": "b6355a90-bdb9-4082-b08b-2eff47aa47db",
   "metadata": {
    "id": "5iDI_mz8N1qn"
   },
   "outputs": [],
   "source": [
    "def set_seed(seed, use_gpu = True):\n",
    "    \"\"\"\n",
    "    Set SEED for PyTorch reproducibility\n",
    "    \"\"\"\n",
    "    random.seed(seed)\n",
    "    np.random.seed(seed)\n",
    "    torch.manual_seed(seed)\n",
    "    if use_gpu:\n",
    "        torch.cuda.manual_seed_all(seed)\n",
    "        torch.cuda.manual_seed(seed)\n",
    "        torch.backends.cudnn.deterministic = True\n",
    "        torch.backends.cudnn.benchmark = False\n",
    "\n",
    "SEED = 196\n",
    "USE_SEED = True\n",
    "if USE_SEED:\n",
    "    set_seed(SEED, torch.cuda.is_available())"
   ]
  },
  {
   "cell_type": "markdown",
   "id": "857f3e65-9609-4d0b-acd0-e0a8cd4370c5",
   "metadata": {},
   "source": [
    "**Load the images and masks**"
   ]
  },
  {
   "cell_type": "code",
   "execution_count": 5,
   "id": "7d1a0c63-4849-4005-b580-278ec239e866",
   "metadata": {},
   "outputs": [
    {
     "name": "stdin",
     "output_type": "stream",
     "text": [
      "Data augmentation? (y/n) y\n"
     ]
    }
   ],
   "source": [
    "augmented = input(\"Data augmentation? (y/n)\")\n",
    "\n",
    "if augmented == \"y\":\n",
    "    train_images = np.load(\"data/data/train_augmented/combined_images.npy\")\n",
    "    train_masks = np.load(\"data/data/train_augmented/combined_masks.npy\")\n",
    "\n",
    "elif augmented == \"n\":\n",
    "    train_images = np.load(\"data/data/train_nonaugmented/train_images.npy\")\n",
    "    train_masks = np.load(\"data/data/train_nonaugmented/train_masks.npy\")\n",
    "\n",
    "else:\n",
    "    raise ValueError(f\"Only 'y' or 'n' \")\n",
    "\n",
    "test_images = np.load(\"data/data/test/test_images.npy\")\n",
    "test_masks = np.load(\"data/data/test/test_masks.npy\")"
   ]
  },
  {
   "cell_type": "code",
   "execution_count": 6,
   "id": "013f98f7-1cab-4b72-bcbf-968862eafbba",
   "metadata": {},
   "outputs": [
    {
     "name": "stdout",
     "output_type": "stream",
     "text": [
      "Train images shape: (3500, 256, 256, 3)\n",
      "Test images shape: (300, 256, 256, 3)\n",
      "Train masks shape: (3500, 256, 256, 1)\n",
      "Test masks shape: (300, 256, 256, 1)\n"
     ]
    }
   ],
   "source": [
    "print(\"Train images shape:\", train_images.shape)\n",
    "print(\"Test images shape:\", test_images.shape)\n",
    "print(\"Train masks shape:\", train_masks.shape)\n",
    "print(\"Test masks shape:\", test_masks.shape)"
   ]
  },
  {
   "cell_type": "markdown",
   "id": "240df45e-47c8-43d8-98ab-a9ce2f5c6ece",
   "metadata": {},
   "source": [
    "**Standaritzation**"
   ]
  },
  {
   "cell_type": "code",
   "execution_count": 7,
   "id": "3086adf4-db6d-48d1-9f9d-59e998ebad47",
   "metadata": {},
   "outputs": [
    {
     "name": "stdout",
     "output_type": "stream",
     "text": [
      "-----  NORMALIZATION VALUES  -----\n",
      "Mean (RGB): [0.56289435 0.33033543 0.24323519]\n",
      "Standard Deviation (RGB): [0.31274417 0.23138525 0.19586279]\n"
     ]
    }
   ],
   "source": [
    "mean = np.mean(train_images, axis = (0,1,2)) / 255\n",
    "std = np.std(train_images, axis = (0,1,2)) / 255\n",
    "\n",
    "print(\"-----  NORMALIZATION VALUES  -----\")\n",
    "print(f\"Mean (RGB): {mean}\")\n",
    "print(f\"Standard Deviation (RGB): {std}\")"
   ]
  },
  {
   "cell_type": "code",
   "execution_count": 8,
   "id": "12a4490c-8028-43ba-a7e3-2c3d0c5ba29e",
   "metadata": {},
   "outputs": [],
   "source": [
    "import torchvision\n",
    "import torchvision.transforms as transforms\n",
    "\n",
    "transforms = torchvision.transforms.Compose([\n",
    "    torchvision.transforms.ToTensor(),  # Convert the image to a PyTorch tensor and normalize it between [0, 1]\n",
    "    torchvision.transforms.Normalize(mean, std)  # Normalize the tensor using the provided mean and standard deviation\n",
    "])"
   ]
  },
  {
   "cell_type": "markdown",
   "id": "b9c8e4bf-cd07-400a-98a5-bd859de4a613",
   "metadata": {},
   "source": [
    "**Validation set**"
   ]
  },
  {
   "cell_type": "code",
   "execution_count": 9,
   "id": "3be31073-1bd1-4ddd-8c25-97d7a83904db",
   "metadata": {
    "colab": {
     "base_uri": "https://localhost:8080/"
    },
    "id": "3bY2e4kp_9BR",
    "outputId": "350540c0-b2dc-4464-df8c-5579b72f3391",
    "scrolled": true
   },
   "outputs": [
    {
     "name": "stdout",
     "output_type": "stream",
     "text": [
      "Training Images Shape: (3500, 256, 256, 3)\n",
      "Training Masks Shape: (3500, 256, 256, 1)\n",
      "Validation Images Shape: (120, 256, 256, 3)\n",
      "Validation Masks Shape: (120, 256, 256, 1)\n",
      "Number of Train Examples: 3500\n",
      "Number of Validation Examples: 120\n",
      "Number of Test Examples: 180\n"
     ]
    }
   ],
   "source": [
    "from sklearn.model_selection import train_test_split\n",
    "\n",
    "#Validation set (40%) of the testing images\n",
    "testing_images, val_images, testing_masks, val_masks = train_test_split(\n",
    "    test_images, test_masks, test_size=0.4, random_state=42)\n",
    "\n",
    "# Check shape of training images and masks\n",
    "print(\"Training Images Shape:\", train_images.shape)\n",
    "print(\"Training Masks Shape:\", train_masks.shape)\n",
    "\n",
    "# Check shape of validation images and masks\n",
    "print(\"Validation Images Shape:\", val_images.shape)\n",
    "print(\"Validation Masks Shape:\", val_masks.shape)\n",
    "\n",
    "# Check length of training and validation sets\n",
    "print(\"Number of Train Examples:\", len(train_images))\n",
    "print(\"Number of Validation Examples:\", len(val_images))\n",
    "print(\"Number of Test Examples:\", len(testing_images))"
   ]
  },
  {
   "cell_type": "code",
   "execution_count": 10,
   "id": "aee261a9-8a27-4a41-9ec7-dbdbfd44bda7",
   "metadata": {},
   "outputs": [],
   "source": [
    "from src.preprocess import KvasirDataset\n",
    "\n",
    "# Create KvasirDataset objects for train, validation and test sets\n",
    "train_dataset = KvasirDataset(images=train_images, masks=train_masks, transforms=transforms)\n",
    "val_dataset = KvasirDataset(images=val_images,masks=val_masks, transforms=transforms)\n",
    "test_dataset = KvasirDataset(images=testing_images, masks=testing_masks, transforms=transforms) \n"
   ]
  },
  {
   "cell_type": "markdown",
   "id": "12686a1a-38e0-438f-9ebb-a7f65621a91d",
   "metadata": {},
   "source": [
    "**Define the model**"
   ]
  },
  {
   "cell_type": "code",
   "execution_count": 11,
   "id": "a9b7ac48-738c-47c7-8de4-235b5d8b5c71",
   "metadata": {},
   "outputs": [],
   "source": [
    "config = {}\n",
    "config['name']='DiceLoss_try_Aug_NDS'\n",
    "config['epochs']=100\n",
    "config['batch_size']=16\n",
    "config['arch']='NestedUNet'\n",
    "config['deep_supervision']=False\n",
    "config['input_channels']=3\n",
    "config['num_classes']=1\n",
    "config['early_stopping']=10 # 10 epochs without improving the dice coefficient\n",
    "#config['input_w']=128\n",
    "#config['input_h']=128\n"
   ]
  },
  {
   "cell_type": "code",
   "execution_count": 12,
   "id": "8c60e0c8-abc1-448f-bf64-48ba5797c66c",
   "metadata": {},
   "outputs": [],
   "source": [
    "from torch.utils.data import DataLoader\n",
    "\n",
    "train_iterator = DataLoader(train_dataset, batch_size=config['batch_size'], shuffle=True)\n",
    "test_iterator = DataLoader(test_dataset, batch_size=config['batch_size'])\n",
    "val_iterator = DataLoader(val_dataset,batch_size=config['batch_size'])"
   ]
  },
  {
   "cell_type": "code",
   "execution_count": 13,
   "id": "f1d69ed0-90ca-41ed-a570-fd85590f4d7a",
   "metadata": {},
   "outputs": [
    {
     "name": "stdout",
     "output_type": "stream",
     "text": [
      "The model has 2,264,833 trainable parameters.\n"
     ]
    }
   ],
   "source": [
    "from src.main import NestedUNet\n",
    "from src.utils import count_parameters\n",
    "\n",
    "model = NestedUNet(config)\n",
    "print(f\"The model has {count_parameters(model):,} trainable parameters.\")"
   ]
  },
  {
   "cell_type": "code",
   "execution_count": 14,
   "id": "3f5002af-adc9-466d-8710-bb026e56c2ea",
   "metadata": {},
   "outputs": [],
   "source": [
    "model = model.to(device)"
   ]
  },
  {
   "cell_type": "code",
   "execution_count": 15,
   "id": "a8f28d1f-e1d9-43d9-a984-d8a924ad734d",
   "metadata": {},
   "outputs": [
    {
     "name": "stderr",
     "output_type": "stream",
     "text": [
      "/home/antoni_valls/CV/Kvasir-Semantic-Segmentation/.venv/lib/python3.10/site-packages/torch/optim/lr_scheduler.py:28: UserWarning: The verbose parameter is deprecated. Please use get_last_lr() to access the learning rate.\n",
      "  warnings.warn(\"The verbose parameter is deprecated. Please use get_last_lr() \"\n"
     ]
    }
   ],
   "source": [
    "from src.loss import DiceLoss, IoULoss, BCEDiceLoss\n",
    "import torch.optim as optim\n",
    "from torch.optim.lr_scheduler import ReduceLROnPlateau\n",
    "\n",
    "criterion = DiceLoss().to(device)\n",
    "optimizer = optim.Adam(model.parameters(), lr=1e-4) \n",
    "scheduler = ReduceLROnPlateau(optimizer, factor=0.1, patience=5, verbose=True)"
   ]
  },
  {
   "cell_type": "code",
   "execution_count": 16,
   "id": "a209d906-894a-475f-86c5-3770c872d67a",
   "metadata": {},
   "outputs": [
    {
     "name": "stdout",
     "output_type": "stream",
     "text": [
      "Epoch [0/100]\n"
     ]
    },
    {
     "name": "stderr",
     "output_type": "stream",
     "text": [
      "100%|█████████████████████████| 219/219 [01:16<00:00,  2.87it/s, loss=0.666, iou=0.202, dice_coef=0.334, accuracy=0.781]\n",
      "100%|███████████████████████████████| 8/8 [00:00<00:00,  9.66it/s, loss=0.65, iou=0.213, dice_coef=0.35, accuracy=0.851]\n"
     ]
    },
    {
     "name": "stdout",
     "output_type": "stream",
     "text": [
      "loss 0.6655 - iou 0.2020 - dice 0.3345 - accuracy 0.7812 - val_loss 0.6501 - val_iou 0.2125 - val_dice 0.3499 - val_accuracy 0.8510\n",
      "=> saved best model\n",
      "Epoch [1/100]\n"
     ]
    },
    {
     "name": "stderr",
     "output_type": "stream",
     "text": [
      "100%|█████████████████████████| 219/219 [01:21<00:00,  2.67it/s, loss=0.607, iou=0.246, dice_coef=0.393, accuracy=0.831]\n",
      "100%|█████████████████████████████| 8/8 [00:00<00:00,  8.69it/s, loss=0.577, iou=0.269, dice_coef=0.423, accuracy=0.862]\n"
     ]
    },
    {
     "name": "stdout",
     "output_type": "stream",
     "text": [
      "loss 0.6075 - iou 0.2455 - dice 0.3925 - accuracy 0.8310 - val_loss 0.5771 - val_iou 0.2688 - val_dice 0.4229 - val_accuracy 0.8623\n",
      "=> saved best model\n",
      "Epoch [2/100]\n"
     ]
    },
    {
     "name": "stderr",
     "output_type": "stream",
     "text": [
      "100%|█████████████████████████| 219/219 [01:26<00:00,  2.53it/s, loss=0.553, iou=0.289, dice_coef=0.447, accuracy=0.851]\n",
      "100%|████████████████████████████████| 8/8 [00:00<00:00,  8.41it/s, loss=0.55, iou=0.291, dice_coef=0.45, accuracy=0.81]\n"
     ]
    },
    {
     "name": "stdout",
     "output_type": "stream",
     "text": [
      "loss 0.5532 - iou 0.2891 - dice 0.4468 - accuracy 0.8512 - val_loss 0.5498 - val_iou 0.2914 - val_dice 0.4502 - val_accuracy 0.8103\n",
      "=> saved best model\n",
      "Epoch [3/100]\n"
     ]
    },
    {
     "name": "stderr",
     "output_type": "stream",
     "text": [
      "100%|█████████████████████████████| 219/219 [01:26<00:00,  2.52it/s, loss=0.5, iou=0.335, dice_coef=0.5, accuracy=0.864]\n",
      "100%|█████████████████████████████| 8/8 [00:00<00:00,  8.53it/s, loss=0.496, iou=0.338, dice_coef=0.504, accuracy=0.831]\n"
     ]
    },
    {
     "name": "stdout",
     "output_type": "stream",
     "text": [
      "loss 0.4998 - iou 0.3353 - dice 0.5002 - accuracy 0.8635 - val_loss 0.4963 - val_iou 0.3378 - val_dice 0.5037 - val_accuracy 0.8306\n",
      "=> saved best model\n",
      "Epoch [4/100]\n"
     ]
    },
    {
     "name": "stderr",
     "output_type": "stream",
     "text": [
      "100%|█████████████████████████| 219/219 [01:28<00:00,  2.46it/s, loss=0.446, iou=0.385, dice_coef=0.554, accuracy=0.874]\n",
      "100%|█████████████████████████████| 8/8 [00:00<00:00,  8.52it/s, loss=0.444, iou=0.386, dice_coef=0.556, accuracy=0.882]\n"
     ]
    },
    {
     "name": "stdout",
     "output_type": "stream",
     "text": [
      "loss 0.4461 - iou 0.3849 - dice 0.5539 - accuracy 0.8745 - val_loss 0.4444 - val_iou 0.3856 - val_dice 0.5556 - val_accuracy 0.8823\n",
      "=> saved best model\n",
      "Epoch [5/100]\n"
     ]
    },
    {
     "name": "stderr",
     "output_type": "stream",
     "text": [
      "100%|██████████████████████████| 219/219 [01:27<00:00,  2.50it/s, loss=0.391, iou=0.44, dice_coef=0.609, accuracy=0.887]\n",
      "100%|██████████████████████████████| 8/8 [00:00<00:00,  8.55it/s, loss=0.419, iou=0.41, dice_coef=0.581, accuracy=0.886]\n"
     ]
    },
    {
     "name": "stdout",
     "output_type": "stream",
     "text": [
      "loss 0.3912 - iou 0.4401 - dice 0.6088 - accuracy 0.8872 - val_loss 0.4189 - val_iou 0.4101 - val_dice 0.5811 - val_accuracy 0.8861\n",
      "=> saved best model\n",
      "Epoch [6/100]\n"
     ]
    },
    {
     "name": "stderr",
     "output_type": "stream",
     "text": [
      "100%|███████████████████████████| 219/219 [01:28<00:00,  2.48it/s, loss=0.34, iou=0.496, dice_coef=0.66, accuracy=0.899]\n",
      "100%|█████████████████████████████| 8/8 [00:00<00:00,  8.38it/s, loss=0.395, iou=0.436, dice_coef=0.605, accuracy=0.874]\n"
     ]
    },
    {
     "name": "stdout",
     "output_type": "stream",
     "text": [
      "loss 0.3397 - iou 0.4956 - dice 0.6603 - accuracy 0.8994 - val_loss 0.3952 - val_iou 0.4360 - val_dice 0.6048 - val_accuracy 0.8745\n",
      "=> saved best model\n",
      "Epoch [7/100]\n"
     ]
    },
    {
     "name": "stderr",
     "output_type": "stream",
     "text": [
      "100%|█████████████████████████████| 219/219 [01:30<00:00,  2.43it/s, loss=0.3, iou=0.541, dice_coef=0.7, accuracy=0.906]\n",
      "100%|█████████████████████████████| 8/8 [00:00<00:00,  8.31it/s, loss=0.398, iou=0.434, dice_coef=0.602, accuracy=0.898]\n"
     ]
    },
    {
     "name": "stdout",
     "output_type": "stream",
     "text": [
      "loss 0.3002 - iou 0.5411 - dice 0.6998 - accuracy 0.9063 - val_loss 0.3978 - val_iou 0.4345 - val_dice 0.6022 - val_accuracy 0.8982\n",
      "Epoch [8/100]\n"
     ]
    },
    {
     "name": "stderr",
     "output_type": "stream",
     "text": [
      "100%|█████████████████████████| 219/219 [01:28<00:00,  2.47it/s, loss=0.265, iou=0.584, dice_coef=0.735, accuracy=0.916]\n",
      "100%|█████████████████████████████| 8/8 [00:00<00:00,  8.36it/s, loss=0.295, iou=0.547, dice_coef=0.705, accuracy=0.906]\n"
     ]
    },
    {
     "name": "stdout",
     "output_type": "stream",
     "text": [
      "loss 0.2646 - iou 0.5842 - dice 0.7354 - accuracy 0.9156 - val_loss 0.2949 - val_iou 0.5466 - val_dice 0.7051 - val_accuracy 0.9056\n",
      "=> saved best model\n",
      "Epoch [9/100]\n"
     ]
    },
    {
     "name": "stderr",
     "output_type": "stream",
     "text": [
      "100%|████████████████████████████| 219/219 [01:30<00:00,  2.43it/s, loss=0.24, iou=0.616, dice_coef=0.76, accuracy=0.92]\n",
      "100%|████████████████████████████████| 8/8 [00:00<00:00,  8.42it/s, loss=0.29, iou=0.552, dice_coef=0.71, accuracy=0.91]\n"
     ]
    },
    {
     "name": "stdout",
     "output_type": "stream",
     "text": [
      "loss 0.2397 - iou 0.6161 - dice 0.7603 - accuracy 0.9199 - val_loss 0.2900 - val_iou 0.5519 - val_dice 0.7100 - val_accuracy 0.9095\n",
      "=> saved best model\n",
      "Epoch [10/100]\n"
     ]
    },
    {
     "name": "stderr",
     "output_type": "stream",
     "text": [
      "100%|█████████████████████████| 219/219 [01:28<00:00,  2.46it/s, loss=0.218, iou=0.645, dice_coef=0.782, accuracy=0.925]\n",
      "100%|█████████████████████████████| 8/8 [00:00<00:00,  8.07it/s, loss=0.256, iou=0.593, dice_coef=0.744, accuracy=0.912]\n"
     ]
    },
    {
     "name": "stdout",
     "output_type": "stream",
     "text": [
      "loss 0.2178 - iou 0.6447 - dice 0.7822 - accuracy 0.9254 - val_loss 0.2559 - val_iou 0.5931 - val_dice 0.7441 - val_accuracy 0.9122\n",
      "=> saved best model\n",
      "Epoch [11/100]\n"
     ]
    },
    {
     "name": "stderr",
     "output_type": "stream",
     "text": [
      "100%|███████████████████████████████| 219/219 [01:30<00:00,  2.41it/s, loss=0.2, iou=0.67, dice_coef=0.8, accuracy=0.93]\n",
      "100%|█████████████████████████████| 8/8 [00:00<00:00,  8.31it/s, loss=0.325, iou=0.515, dice_coef=0.675, accuracy=0.912]\n"
     ]
    },
    {
     "name": "stdout",
     "output_type": "stream",
     "text": [
      "loss 0.1998 - iou 0.6700 - dice 0.8002 - accuracy 0.9296 - val_loss 0.3252 - val_iou 0.5152 - val_dice 0.6748 - val_accuracy 0.9120\n",
      "Epoch [12/100]\n"
     ]
    },
    {
     "name": "stderr",
     "output_type": "stream",
     "text": [
      "100%|█████████████████████████| 219/219 [01:29<00:00,  2.44it/s, loss=0.181, iou=0.696, dice_coef=0.819, accuracy=0.934]\n",
      "100%|█████████████████████████████| 8/8 [00:00<00:00,  8.24it/s, loss=0.316, iou=0.528, dice_coef=0.684, accuracy=0.882]\n"
     ]
    },
    {
     "name": "stdout",
     "output_type": "stream",
     "text": [
      "loss 0.1812 - iou 0.6961 - dice 0.8188 - accuracy 0.9343 - val_loss 0.3159 - val_iou 0.5278 - val_dice 0.6841 - val_accuracy 0.8823\n",
      "Epoch [13/100]\n"
     ]
    },
    {
     "name": "stderr",
     "output_type": "stream",
     "text": [
      "100%|██████████████████████████| 219/219 [01:31<00:00,  2.40it/s, loss=0.164, iou=0.72, dice_coef=0.836, accuracy=0.939]\n",
      "100%|█████████████████████████████| 8/8 [00:00<00:00,  8.44it/s, loss=0.252, iou=0.599, dice_coef=0.748, accuracy=0.901]\n"
     ]
    },
    {
     "name": "stdout",
     "output_type": "stream",
     "text": [
      "loss 0.1642 - iou 0.7205 - dice 0.8358 - accuracy 0.9387 - val_loss 0.2523 - val_iou 0.5995 - val_dice 0.7477 - val_accuracy 0.9007\n",
      "=> saved best model\n",
      "Epoch [14/100]\n"
     ]
    },
    {
     "name": "stderr",
     "output_type": "stream",
     "text": [
      "100%|███████████████████████████| 219/219 [01:30<00:00,  2.41it/s, loss=0.16, iou=0.726, dice_coef=0.84, accuracy=0.939]\n",
      "100%|███████████████████████████████| 8/8 [00:00<00:00,  8.21it/s, loss=0.31, iou=0.536, dice_coef=0.69, accuracy=0.912]\n"
     ]
    },
    {
     "name": "stdout",
     "output_type": "stream",
     "text": [
      "loss 0.1603 - iou 0.7263 - dice 0.8397 - accuracy 0.9391 - val_loss 0.3098 - val_iou 0.5359 - val_dice 0.6902 - val_accuracy 0.9120\n",
      "Epoch [15/100]\n"
     ]
    },
    {
     "name": "stderr",
     "output_type": "stream",
     "text": [
      "100%|█████████████████████████| 219/219 [01:32<00:00,  2.38it/s, loss=0.142, iou=0.753, dice_coef=0.858, accuracy=0.944]\n",
      "100%|█████████████████████████████| 8/8 [00:00<00:00,  8.12it/s, loss=0.259, iou=0.593, dice_coef=0.741, accuracy=0.921]\n"
     ]
    },
    {
     "name": "stdout",
     "output_type": "stream",
     "text": [
      "loss 0.1423 - iou 0.7534 - dice 0.8577 - accuracy 0.9439 - val_loss 0.2593 - val_iou 0.5933 - val_dice 0.7407 - val_accuracy 0.9207\n",
      "Epoch [16/100]\n"
     ]
    },
    {
     "name": "stderr",
     "output_type": "stream",
     "text": [
      "100%|█████████████████████████| 219/219 [01:31<00:00,  2.39it/s, loss=0.134, iou=0.765, dice_coef=0.866, accuracy=0.946]\n",
      "100%|█████████████████████████████| 8/8 [00:00<00:00,  8.15it/s, loss=0.223, iou=0.639, dice_coef=0.777, accuracy=0.927]\n"
     ]
    },
    {
     "name": "stdout",
     "output_type": "stream",
     "text": [
      "loss 0.1344 - iou 0.7651 - dice 0.8656 - accuracy 0.9461 - val_loss 0.2233 - val_iou 0.6394 - val_dice 0.7767 - val_accuracy 0.9270\n",
      "=> saved best model\n",
      "Epoch [17/100]\n"
     ]
    },
    {
     "name": "stderr",
     "output_type": "stream",
     "text": [
      "100%|█████████████████████████| 219/219 [01:31<00:00,  2.39it/s, loss=0.125, iou=0.779, dice_coef=0.875, accuracy=0.948]\n",
      "100%|█████████████████████████████| 8/8 [00:00<00:00,  8.12it/s, loss=0.221, iou=0.641, dice_coef=0.779, accuracy=0.915]\n"
     ]
    },
    {
     "name": "stdout",
     "output_type": "stream",
     "text": [
      "loss 0.1251 - iou 0.7793 - dice 0.8749 - accuracy 0.9481 - val_loss 0.2209 - val_iou 0.6414 - val_dice 0.7791 - val_accuracy 0.9146\n",
      "=> saved best model\n",
      "Epoch [18/100]\n"
     ]
    },
    {
     "name": "stderr",
     "output_type": "stream",
     "text": [
      "100%|█████████████████████████| 219/219 [01:31<00:00,  2.39it/s, loss=0.129, iou=0.774, dice_coef=0.871, accuracy=0.947]\n",
      "100%|█████████████████████████████| 8/8 [00:00<00:00,  8.10it/s, loss=0.252, iou=0.601, dice_coef=0.748, accuracy=0.898]\n"
     ]
    },
    {
     "name": "stdout",
     "output_type": "stream",
     "text": [
      "loss 0.1288 - iou 0.7737 - dice 0.8712 - accuracy 0.9471 - val_loss 0.2522 - val_iou 0.6006 - val_dice 0.7478 - val_accuracy 0.8983\n",
      "Epoch [19/100]\n"
     ]
    },
    {
     "name": "stderr",
     "output_type": "stream",
     "text": [
      "100%|███████████████████████████| 219/219 [01:31<00:00,  2.40it/s, loss=0.118, iou=0.79, dice_coef=0.882, accuracy=0.95]\n",
      "100%|█████████████████████████████| 8/8 [00:00<00:00,  8.22it/s, loss=0.201, iou=0.668, dice_coef=0.799, accuracy=0.924]\n"
     ]
    },
    {
     "name": "stdout",
     "output_type": "stream",
     "text": [
      "loss 0.1183 - iou 0.7902 - dice 0.8817 - accuracy 0.9501 - val_loss 0.2012 - val_iou 0.6680 - val_dice 0.7988 - val_accuracy 0.9241\n",
      "=> saved best model\n",
      "Epoch [20/100]\n"
     ]
    },
    {
     "name": "stderr",
     "output_type": "stream",
     "text": [
      "100%|█████████████████████████| 219/219 [01:32<00:00,  2.37it/s, loss=0.104, iou=0.812, dice_coef=0.896, accuracy=0.954]\n",
      "100%|███████████████████████████████| 8/8 [00:00<00:00,  8.06it/s, loss=0.215, iou=0.65, dice_coef=0.785, accuracy=0.93]\n"
     ]
    },
    {
     "name": "stdout",
     "output_type": "stream",
     "text": [
      "loss 0.1044 - iou 0.8122 - dice 0.8956 - accuracy 0.9540 - val_loss 0.2154 - val_iou 0.6499 - val_dice 0.7846 - val_accuracy 0.9297\n",
      "Epoch [21/100]\n"
     ]
    },
    {
     "name": "stderr",
     "output_type": "stream",
     "text": [
      "100%|████████████████████████| 219/219 [01:30<00:00,  2.43it/s, loss=0.0958, iou=0.827, dice_coef=0.904, accuracy=0.957]\n",
      "100%|██████████████████████████████| 8/8 [00:01<00:00,  7.97it/s, loss=0.192, iou=0.68, dice_coef=0.808, accuracy=0.928]\n"
     ]
    },
    {
     "name": "stdout",
     "output_type": "stream",
     "text": [
      "loss 0.0958 - iou 0.8266 - dice 0.9042 - accuracy 0.9566 - val_loss 0.1921 - val_iou 0.6797 - val_dice 0.8079 - val_accuracy 0.9279\n",
      "=> saved best model\n",
      "Epoch [22/100]\n"
     ]
    },
    {
     "name": "stderr",
     "output_type": "stream",
     "text": [
      "100%|█████████████████████████| 219/219 [01:32<00:00,  2.38it/s, loss=0.104, iou=0.814, dice_coef=0.896, accuracy=0.954]\n",
      "100%|██████████████████████████████| 8/8 [00:00<00:00,  8.10it/s, loss=0.201, iou=0.667, dice_coef=0.799, accuracy=0.93]\n"
     ]
    },
    {
     "name": "stdout",
     "output_type": "stream",
     "text": [
      "loss 0.1037 - iou 0.8138 - dice 0.8963 - accuracy 0.9540 - val_loss 0.2015 - val_iou 0.6673 - val_dice 0.7985 - val_accuracy 0.9299\n",
      "Epoch [23/100]\n"
     ]
    },
    {
     "name": "stderr",
     "output_type": "stream",
     "text": [
      "100%|████████████████████████| 219/219 [01:30<00:00,  2.41it/s, loss=0.0892, iou=0.838, dice_coef=0.911, accuracy=0.958]\n",
      "100%|█████████████████████████████| 8/8 [00:00<00:00,  8.11it/s, loss=0.174, iou=0.705, dice_coef=0.826, accuracy=0.936]\n"
     ]
    },
    {
     "name": "stdout",
     "output_type": "stream",
     "text": [
      "loss 0.0892 - iou 0.8376 - dice 0.9108 - accuracy 0.9581 - val_loss 0.1738 - val_iou 0.7054 - val_dice 0.8262 - val_accuracy 0.9365\n",
      "=> saved best model\n",
      "Epoch [24/100]\n"
     ]
    },
    {
     "name": "stderr",
     "output_type": "stream",
     "text": [
      "100%|█████████████████████████| 219/219 [01:30<00:00,  2.42it/s, loss=0.0838, iou=0.846, dice_coef=0.916, accuracy=0.96]\n",
      "100%|█████████████████████████████| 8/8 [00:00<00:00,  8.28it/s, loss=0.204, iou=0.667, dice_coef=0.796, accuracy=0.931]\n"
     ]
    },
    {
     "name": "stdout",
     "output_type": "stream",
     "text": [
      "loss 0.0838 - iou 0.8462 - dice 0.9162 - accuracy 0.9598 - val_loss 0.2039 - val_iou 0.6671 - val_dice 0.7961 - val_accuracy 0.9307\n",
      "Epoch [25/100]\n"
     ]
    },
    {
     "name": "stderr",
     "output_type": "stream",
     "text": [
      "100%|████████████████████████| 219/219 [01:32<00:00,  2.37it/s, loss=0.0808, iou=0.851, dice_coef=0.919, accuracy=0.961]\n",
      "100%|██████████████████████████████| 8/8 [00:00<00:00,  8.02it/s, loss=0.208, iou=0.657, dice_coef=0.792, accuracy=0.93]\n"
     ]
    },
    {
     "name": "stdout",
     "output_type": "stream",
     "text": [
      "loss 0.0808 - iou 0.8514 - dice 0.9192 - accuracy 0.9606 - val_loss 0.2080 - val_iou 0.6573 - val_dice 0.7920 - val_accuracy 0.9305\n",
      "Epoch [26/100]\n"
     ]
    },
    {
     "name": "stderr",
     "output_type": "stream",
     "text": [
      "100%|█████████████████████████| 219/219 [01:31<00:00,  2.38it/s, loss=0.0758, iou=0.86, dice_coef=0.924, accuracy=0.962]\n",
      "100%|█████████████████████████████| 8/8 [00:00<00:00,  8.26it/s, loss=0.161, iou=0.724, dice_coef=0.839, accuracy=0.939]\n"
     ]
    },
    {
     "name": "stdout",
     "output_type": "stream",
     "text": [
      "loss 0.0758 - iou 0.8600 - dice 0.9242 - accuracy 0.9620 - val_loss 0.1610 - val_iou 0.7237 - val_dice 0.8390 - val_accuracy 0.9393\n",
      "=> saved best model\n",
      "Epoch [27/100]\n"
     ]
    },
    {
     "name": "stderr",
     "output_type": "stream",
     "text": [
      "100%|████████████████████████| 219/219 [01:33<00:00,  2.35it/s, loss=0.0744, iou=0.862, dice_coef=0.926, accuracy=0.962]\n",
      "100%|████████████████████████████████| 8/8 [00:01<00:00,  7.96it/s, loss=0.23, iou=0.63, dice_coef=0.77, accuracy=0.925]\n"
     ]
    },
    {
     "name": "stdout",
     "output_type": "stream",
     "text": [
      "loss 0.0744 - iou 0.8624 - dice 0.9256 - accuracy 0.9622 - val_loss 0.2299 - val_iou 0.6296 - val_dice 0.7701 - val_accuracy 0.9252\n",
      "Epoch [28/100]\n"
     ]
    },
    {
     "name": "stderr",
     "output_type": "stream",
     "text": [
      "100%|██████████████████████████| 219/219 [01:33<00:00,  2.35it/s, loss=0.0816, iou=0.85, dice_coef=0.918, accuracy=0.96]\n",
      "100%|█████████████████████████████| 8/8 [00:01<00:00,  7.95it/s, loss=0.197, iou=0.676, dice_coef=0.803, accuracy=0.932]\n"
     ]
    },
    {
     "name": "stdout",
     "output_type": "stream",
     "text": [
      "loss 0.0816 - iou 0.8505 - dice 0.9184 - accuracy 0.9603 - val_loss 0.1970 - val_iou 0.6756 - val_dice 0.8030 - val_accuracy 0.9318\n",
      "Epoch [29/100]\n"
     ]
    },
    {
     "name": "stderr",
     "output_type": "stream",
     "text": [
      "100%|████████████████████████| 219/219 [01:33<00:00,  2.35it/s, loss=0.0629, iou=0.882, dice_coef=0.937, accuracy=0.966]\n",
      "100%|████████████████████████████████| 8/8 [00:01<00:00,  7.92it/s, loss=0.17, iou=0.71, dice_coef=0.83, accuracy=0.937]\n"
     ]
    },
    {
     "name": "stdout",
     "output_type": "stream",
     "text": [
      "loss 0.0629 - iou 0.8822 - dice 0.9371 - accuracy 0.9656 - val_loss 0.1702 - val_iou 0.7099 - val_dice 0.8298 - val_accuracy 0.9374\n",
      "Epoch [30/100]\n"
     ]
    },
    {
     "name": "stderr",
     "output_type": "stream",
     "text": [
      "100%|████████████████████████| 219/219 [01:30<00:00,  2.41it/s, loss=0.0581, iou=0.891, dice_coef=0.942, accuracy=0.967]\n",
      "100%|█████████████████████████████| 8/8 [00:00<00:00,  8.28it/s, loss=0.204, iou=0.665, dice_coef=0.796, accuracy=0.931]\n"
     ]
    },
    {
     "name": "stdout",
     "output_type": "stream",
     "text": [
      "loss 0.0581 - iou 0.8907 - dice 0.9419 - accuracy 0.9668 - val_loss 0.2044 - val_iou 0.6646 - val_dice 0.7956 - val_accuracy 0.9315\n",
      "Epoch [31/100]\n"
     ]
    },
    {
     "name": "stderr",
     "output_type": "stream",
     "text": [
      "100%|████████████████████████| 219/219 [01:33<00:00,  2.34it/s, loss=0.0561, iou=0.894, dice_coef=0.944, accuracy=0.967]\n",
      "100%|█████████████████████████████| 8/8 [00:01<00:00,  7.88it/s, loss=0.194, iou=0.677, dice_coef=0.806, accuracy=0.931]\n"
     ]
    },
    {
     "name": "stdout",
     "output_type": "stream",
     "text": [
      "loss 0.0561 - iou 0.8944 - dice 0.9439 - accuracy 0.9674 - val_loss 0.1936 - val_iou 0.6768 - val_dice 0.8064 - val_accuracy 0.9307\n",
      "Epoch [32/100]\n"
     ]
    },
    {
     "name": "stderr",
     "output_type": "stream",
     "text": [
      "100%|████████████████████████| 219/219 [01:33<00:00,  2.34it/s, loss=0.0552, iou=0.896, dice_coef=0.945, accuracy=0.968]\n",
      "100%|█████████████████████████████| 8/8 [00:01<00:00,  7.91it/s, loss=0.207, iou=0.659, dice_coef=0.793, accuracy=0.929]\n"
     ]
    },
    {
     "name": "stdout",
     "output_type": "stream",
     "text": [
      "loss 0.0552 - iou 0.8958 - dice 0.9448 - accuracy 0.9676 - val_loss 0.2072 - val_iou 0.6591 - val_dice 0.7928 - val_accuracy 0.9292\n",
      "Epoch [33/100]\n"
     ]
    },
    {
     "name": "stderr",
     "output_type": "stream",
     "text": [
      "100%|████████████████████████| 219/219 [01:33<00:00,  2.35it/s, loss=0.0445, iou=0.915, dice_coef=0.956, accuracy=0.971]\n",
      "100%|█████████████████████████████| 8/8 [00:01<00:00,  7.90it/s, loss=0.192, iou=0.679, dice_coef=0.808, accuracy=0.934]\n"
     ]
    },
    {
     "name": "stdout",
     "output_type": "stream",
     "text": [
      "loss 0.0445 - iou 0.9152 - dice 0.9555 - accuracy 0.9707 - val_loss 0.1923 - val_iou 0.6793 - val_dice 0.8077 - val_accuracy 0.9340\n",
      "Epoch [34/100]\n"
     ]
    },
    {
     "name": "stderr",
     "output_type": "stream",
     "text": [
      "100%|█████████████████████████| 219/219 [01:33<00:00,  2.34it/s, loss=0.0419, iou=0.92, dice_coef=0.958, accuracy=0.971]\n",
      "100%|█████████████████████████████| 8/8 [00:01<00:00,  7.92it/s, loss=0.183, iou=0.692, dice_coef=0.817, accuracy=0.936]\n"
     ]
    },
    {
     "name": "stdout",
     "output_type": "stream",
     "text": [
      "loss 0.0419 - iou 0.9199 - dice 0.9581 - accuracy 0.9714 - val_loss 0.1833 - val_iou 0.6919 - val_dice 0.8167 - val_accuracy 0.9356\n",
      "Epoch [35/100]\n"
     ]
    },
    {
     "name": "stderr",
     "output_type": "stream",
     "text": [
      "100%|████████████████████████| 219/219 [01:32<00:00,  2.37it/s, loss=0.0408, iou=0.922, dice_coef=0.959, accuracy=0.972]\n",
      "100%|█████████████████████████████| 8/8 [00:00<00:00,  8.03it/s, loss=0.184, iou=0.691, dice_coef=0.816, accuracy=0.935]\n"
     ]
    },
    {
     "name": "stdout",
     "output_type": "stream",
     "text": [
      "loss 0.0408 - iou 0.9218 - dice 0.9592 - accuracy 0.9717 - val_loss 0.1842 - val_iou 0.6910 - val_dice 0.8158 - val_accuracy 0.9352\n",
      "Epoch [36/100]\n"
     ]
    },
    {
     "name": "stderr",
     "output_type": "stream",
     "text": [
      "100%|█████████████████████████| 219/219 [01:33<00:00,  2.34it/s, loss=0.0403, iou=0.923, dice_coef=0.96, accuracy=0.972]\n",
      "100%|█████████████████████████████| 8/8 [00:01<00:00,  7.88it/s, loss=0.191, iou=0.682, dice_coef=0.809, accuracy=0.934]"
     ]
    },
    {
     "name": "stdout",
     "output_type": "stream",
     "text": [
      "loss 0.0403 - iou 0.9228 - dice 0.9597 - accuracy 0.9719 - val_loss 0.1907 - val_iou 0.6817 - val_dice 0.8093 - val_accuracy 0.9341\n",
      "=> early stopping\n"
     ]
    },
    {
     "name": "stderr",
     "output_type": "stream",
     "text": [
      "\n"
     ]
    }
   ],
   "source": [
    "from src.train_val_test import train, evaluate\n",
    "from collections import OrderedDict\n",
    "\n",
    "log = OrderedDict([\n",
    "    ('epoch', []),\n",
    "    ('loss', []),\n",
    "    ('iou', []),\n",
    "    ('dice',[]),\n",
    "    ('accuracy',[]),\n",
    "    ('val_loss', []),\n",
    "    ('val_iou', []),\n",
    "    ('val_dice',[]),\n",
    "    ('val_accuracy',[])\n",
    "])\n",
    "\n",
    "best_dice = 0\n",
    "trigger = 0\n",
    "for epoch in range(config['epochs']):\n",
    "    print('Epoch [%d/%d]' % (epoch, config['epochs']))\n",
    "\n",
    "    # train for one epoch\n",
    "    train_log = train(config, model, train_iterator, criterion, optimizer, config['deep_supervision'], device)\n",
    "    # evaluate on validation set\n",
    "    val_log = evaluate(config, model, val_iterator, criterion, config['deep_supervision'], device)\n",
    "\n",
    "    print('loss %.4f - iou %.4f - dice %.4f - accuracy %.4f - val_loss %.4f - val_iou %.4f - val_dice %.4f - val_accuracy %.4f'\n",
    "          % (train_log['loss'], train_log['iou'], train_log['dice_coef'], train_log['accuracy'],\n",
    "             val_log['loss'], val_log['iou'], val_log['dice_coef'], val_log['accuracy']))\n",
    "\n",
    "    log['epoch'].append(epoch)\n",
    "    log['loss'].append(train_log['loss'])\n",
    "    log['iou'].append(train_log['iou'])\n",
    "    log['dice'].append(train_log['dice_coef'])\n",
    "    log['accuracy'].append(train_log['accuracy'])\n",
    "    log['val_loss'].append(val_log['loss'])\n",
    "    log['val_iou'].append(val_log['iou'])\n",
    "    log['val_dice'].append(val_log['dice_coef'])\n",
    "    log['val_accuracy'].append(val_log['accuracy'])\n",
    "    \n",
    "    pd.DataFrame(log).to_csv('models/%s/log.csv' %\n",
    "                             config['name'], index=False)\n",
    "\n",
    "    trigger += 1\n",
    "\n",
    "    if val_log['dice_coef'] > best_dice:\n",
    "        torch.save(model.state_dict(), 'models/%s/model.pth' %\n",
    "                   config['name'])\n",
    "        best_dice = val_log['dice_coef']\n",
    "        print(\"=> saved best model\")\n",
    "        trigger = 0\n",
    "\n",
    "    # Reduce learning rate when validation metric stops improving\n",
    "    scheduler.step(val_log['loss'])\n",
    "\n",
    "    # early stopping\n",
    "    if config['early_stopping'] >= 0 and trigger >= config['early_stopping']:\n",
    "        print(\"=> early stopping\")\n",
    "        break\n",
    "\n",
    "    torch.cuda.empty_cache()"
   ]
  },
  {
   "cell_type": "code",
   "execution_count": 17,
   "id": "d80feb91-12ad-4640-a38a-4ced108bbc2d",
   "metadata": {},
   "outputs": [
    {
     "name": "stderr",
     "output_type": "stream",
     "text": [
      "100%|████████████████████████████| 12/12 [00:01<00:00,  7.88it/s, loss=0.171, iou=0.71, dice_coef=0.829, accuracy=0.942]"
     ]
    },
    {
     "name": "stdout",
     "output_type": "stream",
     "text": [
      "test_loss 0.1710 - test_iou 0.7103 - test_dice 0.8290 - test_accuracy 0.9416\n"
     ]
    },
    {
     "name": "stderr",
     "output_type": "stream",
     "text": [
      "\n"
     ]
    }
   ],
   "source": [
    "test_log = evaluate(config, model, test_iterator, criterion, config['deep_supervision'], device)\n",
    "\n",
    "pd.DataFrame([test_log]).to_csv('models/%s/test_log.csv' % config['name'])\n",
    "\n",
    "print('test_loss %.4f - test_iou %.4f - test_dice %.4f - test_accuracy %.4f'\n",
    "          % (test_log['loss'], test_log['iou'], test_log['dice_coef'], test_log['accuracy']))"
   ]
  },
  {
   "cell_type": "code",
   "execution_count": 5,
   "id": "12877654-5bd5-4c2d-b4f5-d7d6b1350bae",
   "metadata": {},
   "outputs": [
    {
     "data": {
      "image/png": "[encoded data removed]",
      "text/plain": [
       "<Figure size 1200x1200 with 4 Axes>"
      ]
     },
     "metadata": {},
     "output_type": "display_data"
    }
   ],
   "source": [
    "import matplotlib.pyplot as plt\n",
    "import pandas as pd\n",
    "\n",
    "# Read the CSV file into a DataFrame\n",
    "df = pd.read_csv('models/DiceLoss_try_Aug/log.csv')\n",
    "test = pd.read_csv('models/DiceLoss_try_Aug/test_log.csv')\n",
    "\n",
    "# Test values for loss, IoU, and Dice coefficients\n",
    "test_loss = test['loss'].item()  \n",
    "test_iou = test['iou'].item() \n",
    "test_dice = test['dice_coef'].item() \n",
    "test_accuracy = test['accuracy'].item() \n",
    "\n",
    "# Create a figure and subplots\n",
    "fig, ((ax1, ax2), (ax3, ax4)) = plt.subplots(2, 2, figsize=(12, 12))\n",
    "\n",
    "# Plot the loss features in the first subplot\n",
    "ax1.plot(df['epoch'], df['loss'], label='Training Loss')\n",
    "ax1.plot(df['epoch'], df['val_loss'], label='Validation Loss')\n",
    "ax1.axhline(y=test_loss, color='r', linestyle='--', label='Test Loss')\n",
    "ax1.annotate(f'{test_loss:.2f}', xy=(90, test_loss+0.005), color='r')\n",
    "ax1.set_title('Loss Metrics')\n",
    "ax1.set_xlabel('Epoch')\n",
    "ax1.set_ylabel('Loss')\n",
    "ax1.legend()\n",
    "\n",
    "ax2.plot(df['epoch'], df['accuracy'], label='Training Accuracy')\n",
    "ax2.plot(df['epoch'], df['val_accuracy'], label='Validation Accuracy')\n",
    "ax2.axhline(y=test_accuracy, color='r', linestyle='--', label='Test Accuracy')\n",
    "ax2.annotate(f'{test_accuracy:.2f}', xy=(90, test_accuracy+0.002), color='r')\n",
    "ax2.set_title('Accuracy Metrics')\n",
    "ax2.set_xlabel('Epoch')\n",
    "ax2.set_ylabel('Accuracy')\n",
    "ax2.legend()\n",
    "\n",
    "ax3.plot(df['epoch'], df['iou'], label='Training IoU')\n",
    "ax3.plot(df['epoch'], df['val_iou'], label='Validation IoU')\n",
    "ax3.axhline(y=test_iou, color='r', linestyle='--', label='Test IoU')\n",
    "ax3.annotate(f'{test_iou:.2f}', xy=(90, test_iou+0.003), color='r')\n",
    "ax3.set_title('IoU Metrics')\n",
    "ax3.set_xlabel('Epoch')\n",
    "ax3.set_ylabel('IoU')\n",
    "ax3.legend()\n",
    "\n",
    "ax4.plot(df['epoch'], df['dice'], label='Training Dice')\n",
    "ax4.plot(df['epoch'], df['val_dice'], label='Validation Dice')\n",
    "ax4.axhline(y=test_dice, color='r', linestyle='--', label='Test Dice')\n",
    "ax4.annotate(f'{test_dice:.2f}', xy=(90, test_dice+0.005), color='r')\n",
    "ax4.set_title('Dice Metrics')\n",
    "ax4.set_xlabel('Epoch')\n",
    "ax4.set_ylabel('Dice')\n",
    "ax4.legend()\n",
    "\n",
    "fig.suptitle(\"UNET++ with DiceLoss and with Data Augmentation and DS\")\n",
    "# Adjust the spacing between subplots\n",
    "plt.tight_layout()\n",
    "\n",
    "plt.savefig(\"results/DiceLoss_Aug_DS.png\")\n",
    "# Display the plot\n",
    "plt.show()"
   ]
  },
  {
   "cell_type": "code",
   "execution_count": null,
   "id": "9e805e4e-d78f-4bc0-be2b-fd0dd7a0187c",
   "metadata": {},
   "outputs": [],
   "source": []
  },
  {
   "cell_type": "code",
   "execution_count": null,
   "id": "9b99ef2b-2d39-4cff-8441-2df0f72ef341",
   "metadata": {},
   "outputs": [],
   "source": []
  },
  {
   "cell_type": "code",
   "execution_count": null,
   "id": "e67800e5-f217-4d8b-8a7c-9800e83d0efc",
   "metadata": {},
   "outputs": [],
   "source": []
  },
  {
   "cell_type": "code",
   "execution_count": null,
   "id": "e407c7cf-11d9-4922-b8c5-991eb68f9779",
   "metadata": {},
   "outputs": [],
   "source": []
  },
  {
   "cell_type": "code",
   "execution_count": null,
   "id": "98cee265-15d5-4a16-a673-78c37fcd17e4",
   "metadata": {},
   "outputs": [],
   "source": []
  },
  {
   "cell_type": "code",
   "execution_count": null,
   "id": "78dc5e87-0f51-41e8-8af1-6289254e325a",
   "metadata": {},
   "outputs": [],
   "source": []
  },
  {
   "cell_type": "code",
   "execution_count": null,
   "id": "70f54ce7-73cf-4e44-bec7-7dff7ebc658a",
   "metadata": {},
   "outputs": [],
   "source": []
  },
  {
   "cell_type": "code",
   "execution_count": null,
   "id": "97ae5a15-573f-43f8-8d09-1fffd5f6d078",
   "metadata": {},
   "outputs": [],
   "source": []
  },
  {
   "cell_type": "code",
   "execution_count": null,
   "id": "eb430f3a-3e9c-453d-87a4-6cf63aa642f5",
   "metadata": {},
   "outputs": [],
   "source": []
  },
  {
   "cell_type": "code",
   "execution_count": null,
   "id": "4dfcf1b3-8f2d-41b5-ba6c-1e1e34967be8",
   "metadata": {},
   "outputs": [],
   "source": []
  },
  {
   "cell_type": "code",
   "execution_count": null,
   "id": "b62026f2-8544-46f7-9b35-1786589a0b43",
   "metadata": {},
   "outputs": [],
   "source": []
  },
  {
   "cell_type": "code",
   "execution_count": null,
   "id": "3dccf718-6cc5-4872-a8b7-14744e8c0e31",
   "metadata": {},
   "outputs": [],
   "source": []
  },
  {
   "cell_type": "code",
   "execution_count": null,
   "id": "b0811f68-a50d-41a9-b94f-6f47a1e20822",
   "metadata": {},
   "outputs": [],
   "source": []
  },
  {
   "cell_type": "code",
   "execution_count": null,
   "id": "951cc938-6815-48aa-9632-78eacc1ca996",
   "metadata": {},
   "outputs": [],
   "source": []
  },
  {
   "cell_type": "code",
   "execution_count": null,
   "id": "2b49b980-fadc-4731-b604-17d12e2c2a77",
   "metadata": {},
   "outputs": [],
   "source": []
  }
 ],
 "metadata": {
  "kernelspec": {
   "display_name": "Python 3 (ipykernel)",
   "language": "python",
   "name": "python3"
  },
  "language_info": {
   "codemirror_mode": {
    "name": "ipython",
    "version": 3
   },
   "file_extension": ".py",
   "mimetype": "text/x-python",
   "name": "python",
   "nbconvert_exporter": "python",
   "pygments_lexer": "ipython3",
   "version": "3.10.12"
  }
 },
 "nbformat": 4,
 "nbformat_minor": 5
}
